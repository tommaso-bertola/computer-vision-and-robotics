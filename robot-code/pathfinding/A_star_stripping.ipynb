{
 "cells": [
  {
   "cell_type": "code",
   "execution_count": null,
   "metadata": {},
   "outputs": [],
   "source": [
    "import numpy as np\n",
    "import math\n",
    "import heapq\n",
    "\n",
    "import matplotlib.pyplot as plt\n",
    "from matplotlib.patches import Circle\n",
    "import numpy as np\n",
    "import matplotlib.pyplot as plt\n",
    "from a_star import *\n",
    "import pickle\n",
    "from shapely.geometry import Polygon, LineString\n",
    "from shapely.geometry import Point\n",
    "from magic import ordinator\n",
    "import cv2\n",
    "from scipy import ndimage"
   ]
  },
  {
   "cell_type": "code",
   "execution_count": null,
   "metadata": {},
   "outputs": [],
   "source": [
    "with open(\"SLAM20240204_160029.pickle\", 'rb') as input_file:\n",
    "# with open(r\"SLAM20240124_162059.pickle\", \"rb\") as input_file:\n",
    "# with open(r\"SLAM20240121_162038.pickle\", \"rb\") as input_file:\n",
    "# with open(r\"SLAM20240124_162059.pickle\", \"rb\") as input_file:\n",
    "\n",
    "    e = pickle.load(input_file)\n",
    "\n",
    "positions = np.array(e['positions'])\n",
    "ids = e['ids']\n",
    "ids = np.array(ids)\n",
    "robot_pose=e['robot_pose']\n",
    "\n",
    "for i, pos_zip in enumerate(zip(positions, ids)):\n",
    "    col = pos_zip[1] % 3\n",
    "    if col == 0:\n",
    "        col2 = 'green'\n",
    "    elif col == 1:\n",
    "        col2 = 'red'\n",
    "    elif col == 2:\n",
    "        col2 = 'blue'\n",
    "    if pos_zip[1] < 100:\n",
    "        col2 = 'black'\n",
    "    plt.scatter(*pos_zip[0], color=col2)\n",
    "\n",
    "plt.scatter(*robot_pose, color='orange')\n",
    "# plt.scatter(0, 0, color='orange', marker='3',)\n",
    "plt.gca().set_aspect('equal')\n",
    "plt.show()\n",
    "\n",
    "\n",
    "positions_array = np.array(positions)\n",
    "\n",
    "mask_external = (ids % 3 == 2) & (ids >= 100) & (ids <= 1000)\n",
    "mask_internal = (ids % 3 == 0) & (ids >= 100) & (ids <= 1000)\n",
    "mask_obstacle = (ids % 3 == 1) & (ids >= 100) & (ids <= 1000)\n",
    "mask_start_line = (ids < 100)\n",
    "\n",
    "\n",
    "ids_external = ids[mask_external]\n",
    "ids_internal = ids[mask_internal]\n",
    "\n",
    "positions_external = positions_array[mask_external]\n",
    "positions_internal = positions_array[mask_internal]\n",
    "positions_obstacle = positions_array[mask_obstacle]\n",
    "positions_start_line = positions_array[mask_start_line]"
   ]
  },
  {
   "cell_type": "code",
   "execution_count": 3,
   "metadata": {},
   "outputs": [],
   "source": [
    "pos_list_ext = [pos for pos in positions_external]\n",
    "pos_list_int = [pos for pos in positions_internal]\n",
    "\n",
    "external_ordered = np.array(ordinator(pos_list_ext, max_distance=0.6))\n",
    "internal_ordered = np.array(ordinator(pos_list_int))\n",
    "\n",
    "spatial_step = 0.05\n",
    "max_x = np.max(external_ordered[:, 0])\n",
    "max_y = np.max(external_ordered[:, 1])\n",
    "min_x = np.min(external_ordered[:, 0])\n",
    "min_y = np.min(external_ordered[:, 1])\n",
    "delta_x = max_x-min_x\n",
    "delta_y = max_y-min_y\n",
    "center_x = min_x+delta_x/2\n",
    "center_y = min_y+delta_y/2\n",
    "\n",
    "n_x = int(delta_x/spatial_step)\n",
    "n_y = int(delta_y/spatial_step)\n",
    "\n",
    "ext_ordered_poly = Polygon(external_ordered)\n",
    "int_ordered_poly = Polygon(internal_ordered)\n",
    "\n",
    "\n",
    "x = np.linspace(min(np.concatenate([external_ordered[:, 0], internal_ordered[:, 0]])), max(\n",
    "    np.concatenate([external_ordered[:, 0], internal_ordered[:, 0]])), n_x)\n",
    "y = np.linspace(min(np.concatenate([external_ordered[:, 1], internal_ordered[:, 1]])), max(\n",
    "    np.concatenate([external_ordered[:, 1], internal_ordered[:, 1]])), n_y)\n",
    "X, Y = np.meshgrid(x, y)\n",
    "\n",
    "# Create a mask where the pixels inside the first circle and outside the second circle are set to 1, and all others are set to 0\n",
    "mask_internal = np.array([[int_ordered_poly.contains(\n",
    "    Point(x[i], y[j])) for i in range(len(x))] for j in range(len(y))])\n",
    "mask_external = np.array([[not ext_ordered_poly.contains(\n",
    "    Point(x[i], y[j])) for i in range(len(x))] for j in range(len(y))])\n",
    "\n",
    "mask_internal=ndimage.binary_dilation(mask_internal, iterations=2)\n",
    "# mask_internal=1-mask_tmp\n",
    "mask=mask_internal+ mask_external\n",
    "# plt.imshow(mask, origin='lower')"
   ]
  },
  {
   "cell_type": "code",
   "execution_count": 4,
   "metadata": {},
   "outputs": [],
   "source": [
    "mask_line_obs=np.zeros_like(mask, dtype=bool)\n",
    "for x_i,y_i in np.vstack((positions_start_line, positions_obstacle)):\n",
    "    mask_line_obs += np.array([[Point(x_i,y_i).buffer(0.1).contains(Point(x[i], y[j]))\n",
    "                for i in range(len(x))] for j in range(len(y))])\n",
    "\n",
    "mask=mask+mask_line_obs"
   ]
  },
  {
   "cell_type": "markdown",
   "metadata": {},
   "source": [
    "# Compute the matrix coordinates"
   ]
  },
  {
   "cell_type": "code",
   "execution_count": 5,
   "metadata": {},
   "outputs": [
    {
     "data": {
      "text/plain": [
       "(33, 9)"
      ]
     },
     "execution_count": 5,
     "metadata": {},
     "output_type": "execute_result"
    }
   ],
   "source": [
    "\n",
    "def geometry_to_matrix(robot_pose, external_ordered, spatial_step):\n",
    "    x,y=robot_pose\n",
    "    min_x = np.min(external_ordered[:, 0])\n",
    "    min_y = np.min(external_ordered[:, 1])\n",
    "    index_x = int(abs(min_x-x)/spatial_step)\n",
    "    index_y = int(abs(min_y-y)/spatial_step)\n",
    "    return (index_x, index_y)\n",
    "\n",
    "start=geometry_to_matrix(robot_pose, external_ordered, spatial_step)\n",
    "start"
   ]
  },
  {
   "cell_type": "markdown",
   "metadata": {},
   "source": [
    "# Find start and end points"
   ]
  },
  {
   "cell_type": "code",
   "execution_count": 6,
   "metadata": {},
   "outputs": [],
   "source": [
    "def find_extremes(ids, positions):\n",
    "    mask_start_line = (ids < 100) & (ids > 0)\n",
    "    positions_start_line = positions[mask_start_line]\n",
    "    pos_start_line_ordered = np.array(\n",
    "        ordinator(positions_start_line, max_distance=0.3))\n",
    "    first = pos_start_line_ordered[0]\n",
    "    last = pos_start_line_ordered[-1]\n",
    "\n",
    "    radius = np.sqrt((first[0]-last[0])**2+(last[1]-first[1])**2)*0.75\n",
    "\n",
    "    return (first, last, radius)\n",
    "\n",
    "def get_centers(first, last, r):\n",
    "    x1, y1 = first\n",
    "    x2, y2 = last\n",
    "    r1 = r2 = r\n",
    "    centerdx = x1 - x2\n",
    "    centerdy = y1 - y2\n",
    "    R = np.sqrt(centerdx**2 + centerdy**2)\n",
    "    if not (abs(r1 - r2) <= R and R <= r1 + r2):\n",
    "        \"\"\" No intersections \"\"\"\n",
    "        return []\n",
    "\n",
    "    \"\"\" intersection(s) should exist \"\"\"\n",
    "    R2 = R**2\n",
    "    R4 = R2**2\n",
    "    a = (r1**2 - r2**2) / (2 * R2)\n",
    "    r2r2 = r1**2 - r2**2\n",
    "    c = np.sqrt(2 * (r1**2 + r2**2) / R2 - (r2r2**2) / R4 - 1)\n",
    "\n",
    "    fx = (x1 + x2) / 2 + a * (x2 - x1)\n",
    "    gx = c * (y2 - y1) / 2\n",
    "    ix1 = fx + gx\n",
    "    ix2 = fx - gx\n",
    "\n",
    "    fy = (y1 + y2) / 2 + a * (y2 - y1)\n",
    "    gy = c * (x1 - x2) / 2\n",
    "    iy1 = fy + gy\n",
    "    iy2 = fy - gy\n",
    "\n",
    "    return [np.array([ix1, iy1]), np.array([ix2, iy2])]\n",
    "\n",
    "def get_arrival_coords(robot_pose, ids, positions):\n",
    "    intersect_1, intersect_2 = get_centers(*find_extremes(ids, positions))\n",
    "    d1 = np.sqrt(np.sum((robot_pose-intersect_1)**2))\n",
    "    d2 = np.sqrt(np.sum((robot_pose-intersect_2)**2))\n",
    "\n",
    "    if d1 < d2:\n",
    "        target_start = intersect_1\n",
    "        target_end = intersect_2\n",
    "    else:\n",
    "        target_start = intersect_2\n",
    "        target_end = intersect_1\n",
    "\n",
    "    return target_start, target_end\n",
    "\n",
    "\n",
    "start, end = get_arrival_coords(robot_pose, ids, positions)"
   ]
  },
  {
   "cell_type": "code",
   "execution_count": 7,
   "metadata": {},
   "outputs": [],
   "source": [
    "initial_race=geometry_to_matrix(start, external_ordered, spatial_step)\n",
    "start_race=geometry_to_matrix(end, external_ordered, spatial_step)"
   ]
  },
  {
   "cell_type": "code",
   "execution_count": 8,
   "metadata": {},
   "outputs": [
    {
     "data": {
      "text/plain": [
       "<matplotlib.collections.PathCollection at 0x7f49eae890>"
      ]
     },
     "execution_count": 8,
     "metadata": {},
     "output_type": "execute_result"
    },
    {
     "data": {
      "image/png": "[encoded data removed]",
      "text/plain": [
       "<Figure size 640x480 with 1 Axes>"
      ]
     },
     "metadata": {},
     "output_type": "display_data"
    }
   ],
   "source": [
    "plt.imshow(mask, origin='lower')\n",
    "# plt.scatter(*start)\n",
    "plt.scatter(*initial_race)\n",
    "plt.scatter(*start_race)\n"
   ]
  },
  {
   "cell_type": "code",
   "execution_count": 9,
   "metadata": {},
   "outputs": [
    {
     "data": {
      "image/png": "[encoded data removed]",
      "text/plain": [
       "<Figure size 640x480 with 1 Axes>"
      ]
     },
     "metadata": {},
     "output_type": "display_data"
    },
    {
     "name": "stdout",
     "output_type": "stream",
     "text": [
      "[(47, 15), (48, 14), (49, 13), (50, 13), (51, 13), (52, 13), (53, 13), (54, 13), (55, 13), (56, 13), (57, 13), (58, 13), (59, 13), (60, 13), (61, 13), (62, 13), (63, 13), (64, 13), (65, 13), (66, 13), (67, 13), (68, 13), (69, 13), (70, 13), (71, 13), (72, 13), (73, 13), (74, 13), (75, 13), (76, 13), (77, 14), (78, 15), (79, 16), (80, 17), (81, 18), (82, 19), (83, 20), (84, 21), (85, 22), (85, 23), (85, 24), (84, 25), (83, 26), (82, 27), (81, 28), (80, 28), (79, 29), (78, 29), (77, 29), (76, 29), (75, 29), (74, 29), (73, 29), (72, 29), (71, 30), (70, 30), (69, 31), (68, 32), (67, 33), (66, 34), (65, 35), (64, 35), (63, 36), (62, 36), (61, 36), (60, 36), (59, 37), (58, 36), (57, 36), (56, 36), (55, 37), (54, 37), (53, 37), (52, 37), (51, 37), (50, 37), (49, 38), (48, 38), (47, 38), (46, 38), (45, 38), (44, 38), (43, 39), (42, 38), (41, 38), (40, 38), (39, 37), (38, 36), (37, 36), (36, 35), (35, 35), (34, 35), (33, 34), (32, 34), (31, 34), (30, 34), (29, 33), (28, 32), (27, 31), (26, 30), (25, 29), (24, 28), (23, 27), (22, 26), (21, 25), (20, 25), (19, 25), (18, 24), (17, 24), (16, 23), (15, 23), (14, 22), (13, 21), (12, 20), (11, 19), (10, 18), (9, 18), (8, 17), (8, 16), (7, 15), (7, 14), (8, 13), (9, 12), (10, 12), (11, 13), (12, 13), (13, 13), (14, 13), (15, 12), (16, 11), (17, 10), (18, 9), (19, 9), (20, 9), (21, 8), (22, 8), (23, 8), (24, 8), (25, 9), (26, 9), (27, 10), (28, 11), (29, 11), (30, 11), (31, 11), (32, 12), (33, 12), (34, 13), (35, 13), (36, 13), (37, 13), (38, 13), (39, 13)]\n"
     ]
    }
   ],
   "source": [
    "maze_plot(mask, start_race, initial_race)"
   ]
  },
  {
   "cell_type": "code",
   "execution_count": 10,
   "metadata": {},
   "outputs": [],
   "source": [
    "path_to_follow=astar(mask, start_race, initial_race)"
   ]
  },
  {
   "cell_type": "code",
   "execution_count": 11,
   "metadata": {},
   "outputs": [
    {
     "data": {
      "image/png": "[encoded data removed]",
      "text/plain": [
       "<Figure size 640x480 with 1 Axes>"
      ]
     },
     "metadata": {},
     "output_type": "display_data"
    }
   ],
   "source": [
    "for point in path_to_follow:\n",
    "    plt.scatter(*point, c='red')\n",
    "\n",
    "for point in path_to_follow[::3]:\n",
    "    plt.scatter(*point, c='blue')\n",
    "\n",
    "plt.gca().set_aspect('equal')"
   ]
  },
  {
   "cell_type": "code",
   "execution_count": null,
   "metadata": {},
   "outputs": [],
   "source": []
  }
 ],
 "metadata": {
  "kernelspec": {
   "display_name": ".ev3-venv",
   "language": "python",
   "name": "python3"
  },
  "language_info": {
   "codemirror_mode": {
    "name": "ipython",
    "version": 3
   },
   "file_extension": ".py",
   "mimetype": "text/x-python",
   "name": "python",
   "nbconvert_exporter": "python",
   "pygments_lexer": "ipython3",
   "version": "3.11.2"
  }
 },
 "nbformat": 4,
 "nbformat_minor": 2
}
