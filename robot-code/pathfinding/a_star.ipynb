{
 "cells": [
  {
   "cell_type": "markdown",
   "metadata": {},
   "source": [
    "# A* Algorithm\n",
    "\n",
    "**Input**: graph representing the map. The graph consists of nodes (points in space) and edges (connections between these points). Each edge in the graph is associated with a cost, which represents the cost of moving from one node to another. This cost can represent various factors, such as the physical distance between the nodes, the difficulty level of the path, or any other factor that affects the cost of traversing the path.\n",
    "\n",
    "The A* algorithm starts at a given node (the start node) and tries to find the **shortest path to another node** (the goal node). It does this by maintaining **two lists**: an open list (containing nodes that need to be evaluated) and a closed list (containing nodes that have already been evaluated). The algorithm iteratively selects the node with the lowest cost from the open list, evaluates it, and moves it to the closed list. The cost of a node is determined by two factors: the actual cost to reach the node (g(n)), and the estimated cost to reach the goal from the node (h(n)). The algorithm continues this process until it finds the goal node or exhausts all possibilities.\n",
    "\n",
    "\n",
    "EKF_SLAM returns a list $\\mu$ of the form:\n",
    "$$[x,y,\\theta,x_1,y_1,\\ldots, x_n,y_n]$$\n",
    "\n",
    "We still have to take into account:\n",
    "- Red & green circles\n",
    "- Obstacles (red arucos)\n",
    "\n",
    "Possible idea: consider the red and green circles as nodes. The first ones should have very low cost (maybe negative?), the red ones very hign cost."
   ]
  },
  {
   "cell_type": "code",
   "execution_count": 29,
   "metadata": {},
   "outputs": [
    {
     "data": {
      "image/png": "[encoded data removed]",
      "text/plain": [
       "<Figure size 640x480 with 1 Axes>"
      ]
     },
     "metadata": {},
     "output_type": "display_data"
    }
   ],
   "source": [
    "import matplotlib.pyplot as plt\n",
    "import numpy as np\n",
    "\n",
    "x = np.array([1 for _ in range(10)], dtype=float)\n",
    "y = np.array([2 for _ in range(10)], dtype=float)\n",
    "\n",
    "# Add random noise to x and y\n",
    "noise_scale = 0.01 # Adjust this value to increase or decrease the amount of noise\n",
    "x += np.random.normal(0, noise_scale, x.shape)\n",
    "y += np.random.normal(0, noise_scale, y.shape)\n",
    "\n",
    "plt.plot(x, \"bo\")\n",
    "plt.plot(y, \"go\")\n",
    "\n",
    "plt.grid()\n",
    "plt.show()"
   ]
  },
  {
   "cell_type": "code",
   "execution_count": 33,
   "metadata": {},
   "outputs": [
    {
     "data": {
      "text/plain": [
       "[(1.000026160911514, 2.003182744304637),\n",
       " (1.000185071845723, 1.9956077642262164),\n",
       " (0.9982204405719325, 2.0038154677218305),\n",
       " (1.017076494891702, 1.9856899114508169),\n",
       " (0.9875267061427134, 1.9961193774168182),\n",
       " (1.0020679259126584, 2.00490685217176),\n",
       " (0.9974233361812254, 2.0012427869136142),\n",
       " (1.0079146556645082, 2.007505210551926),\n",
       " (1.0079395612586328, 1.9987763761569146),\n",
       " (1.010910177784966, 2.0134895500384937)]"
      ]
     },
     "execution_count": 33,
     "metadata": {},
     "output_type": "execute_result"
    }
   ],
   "source": [
    "coordinates = list(zip(x, y))\n",
    "coordinates"
   ]
  },
  {
   "cell_type": "markdown",
   "metadata": {},
   "source": [
    "Possible approach:\n",
    "- Robot esplores track and returns list of coordinates\n",
    "- We connect them \n",
    "- "
   ]
  },
  {
   "cell_type": "code",
   "execution_count": 34,
   "metadata": {},
   "outputs": [],
   "source": []
  },
  {
   "cell_type": "markdown",
   "metadata": {},
   "source": [
    "# Example"
   ]
  },
  {
   "cell_type": "code",
   "execution_count": 50,
   "metadata": {},
   "outputs": [
    {
     "data": {
      "image/png": "[encoded data removed]",
      "text/plain": [
       "<Figure size 500x300 with 1 Axes>"
      ]
     },
     "metadata": {},
     "output_type": "display_data"
    },
    {
     "name": "stdout",
     "output_type": "stream",
     "text": [
      "Shortest path from (0, 0) to (2, 2): [(0, 0), (0, 1), (0, 2), (1, 2), (2, 2)]\n"
     ]
    }
   ],
   "source": [
    "import networkx as nx\n",
    "import matplotlib.pyplot as plt\n",
    "\n",
    "# Create a simple graph\n",
    "G = nx.Graph()\n",
    "\n",
    "# Add nodes\n",
    "G.add_node((0, 0))\n",
    "G.add_node((0, 1))\n",
    "G.add_node((0, 2))\n",
    "G.add_node((1, 0))\n",
    "G.add_node((1, 1))\n",
    "G.add_node((1, 2))\n",
    "G.add_node((2, 0))\n",
    "G.add_node((2, 1))\n",
    "G.add_node((2, 2))\n",
    "\n",
    "# Add edges and weights\n",
    "G.add_edge((0, 0), (0, 1), weight=1)\n",
    "G.add_edge((0, 1), (0, 2), weight=1)\n",
    "G.add_edge((0, 2), (1, 2), weight=1)\n",
    "G.add_edge((1, 2), (2, 2), weight=1)\n",
    "G.add_edge((2, 2), (2, 1), weight=1)\n",
    "G.add_edge((2, 1), (2, 0), weight=1)\n",
    "G.add_edge((2, 0), (1, 0), weight=1)\n",
    "G.add_edge((1, 0), (1, 1), weight=1)\n",
    "G.add_edge((1, 1), (0, 1), weight=1)\n",
    "\n",
    "# Draw the graph\n",
    "plt.figure(figsize=(5, 3))\n",
    "pos = {(x, y): (x, y) for x in range(3) for y in range(3)}\n",
    "nx.draw(G, pos, with_labels=True)\n",
    "plt.show()\n",
    "\n",
    "# Find the shortest path using A* algorithm\n",
    "start = (0, 0)\n",
    "goal = (2, 2)\n",
    "\n",
    "path = nx.astar_path(G, start, goal, heuristic=None, weight='weight')\n",
    "print(f\"Shortest path from {start} to {goal}: {path}\")"
   ]
  },
  {
   "cell_type": "markdown",
   "metadata": {},
   "source": [
    "# Example\n",
    "\n",
    "The code below was taken from [here](https://medium.com/@nicholas.w.swift/easy-a-star-pathfinding-7e6689c7f7b2)"
   ]
  },
  {
   "cell_type": "code",
   "execution_count": 1,
   "metadata": {},
   "outputs": [],
   "source": [
    "\n",
    "class Node():\n",
    "    \"\"\"A node class for A* Pathfinding\"\"\"\n",
    "\n",
    "    def __init__(self, parent=None, position=None):\n",
    "        self.parent = parent\n",
    "        self.position = position\n",
    "\n",
    "        self.g = 0 # distance between the current node and the start node\n",
    "        self.h = 0 # estimated distance from the current node to the end node\n",
    "        self.f = 0 # total score of node\n",
    "\n",
    "    def __eq__(self, other):\n",
    "        return self.position == other.position\n",
    "\n",
    "\n",
    "def astar(maze, start, end):\n",
    "    \"\"\"Returns a list of tuples as a path from the given start to the given end in the given maze\"\"\"\n",
    "\n",
    "    # Create start and end node\n",
    "    start_node = Node(None, start)\n",
    "    start_node.g = start_node.h = start_node.f = 0\n",
    "    end_node = Node(None, end)\n",
    "    end_node.g = end_node.h = end_node.f = 0\n",
    "\n",
    "    # Initialize both open and closed list\n",
    "    open_list = []\n",
    "    closed_list = []\n",
    "\n",
    "    # Add the start node\n",
    "    open_list.append(start_node)\n",
    "\n",
    "    # Loop until you find the end\n",
    "    while len(open_list) > 0:\n",
    "\n",
    "        # Get the current node\n",
    "        current_node = open_list[0]\n",
    "        current_index = 0\n",
    "        for index, item in enumerate(open_list):\n",
    "            if item.f < current_node.f:\n",
    "                current_node = item\n",
    "                current_index = index\n",
    "\n",
    "        # Pop current off open list, add to closed list\n",
    "        open_list.pop(current_index)\n",
    "        closed_list.append(current_node)\n",
    "\n",
    "        # Found the goal\n",
    "        if current_node == end_node:\n",
    "            path = []\n",
    "            current = current_node\n",
    "            while current is not None:\n",
    "                path.append(current.position)\n",
    "                current = current.parent\n",
    "            return path[::-1] # Return reversed path\n",
    "\n",
    "        # Generate children\n",
    "        children = []\n",
    "        for new_position in [(0, -1), (0, 1), (-1, 0), (1, 0), (-1, -1), (-1, 1), (1, -1), (1, 1)]: # Adjacent squares\n",
    "\n",
    "            # Get node position\n",
    "            node_position = (current_node.position[0] + new_position[0], current_node.position[1] + new_position[1])\n",
    "\n",
    "            # Make sure within range\n",
    "            if node_position[0] > (len(maze) - 1) or node_position[0] < 0 or node_position[1] > (len(maze[len(maze)-1]) -1) or node_position[1] < 0:\n",
    "                continue\n",
    "\n",
    "            # Make sure walkable terrain\n",
    "            if maze[node_position[0]][node_position[1]] != 0:\n",
    "                continue\n",
    "\n",
    "            # Create new node\n",
    "            new_node = Node(current_node, node_position)\n",
    "\n",
    "            # Append\n",
    "            children.append(new_node)\n",
    "\n",
    "        # Loop through children\n",
    "        for child in children:\n",
    "\n",
    "            # Child is on the closed list\n",
    "            for closed_child in closed_list:\n",
    "                if child == closed_child:\n",
    "                    continue\n",
    "\n",
    "            # Create the f, g, and h values\n",
    "            child.g = current_node.g + 1\n",
    "            child.h = ((child.position[0] - end_node.position[0]) ** 2) + ((child.position[1] - end_node.position[1]) ** 2)\n",
    "            child.f = child.g + child.h\n",
    "\n",
    "            # Child is already in the open list\n",
    "            for open_node in open_list:\n",
    "                if child == open_node and child.g > open_node.g:\n",
    "                    continue\n",
    "\n",
    "            # Add the child to the open list\n",
    "            open_list.append(child)"
   ]
  },
  {
   "cell_type": "code",
   "execution_count": 2,
   "metadata": {},
   "outputs": [],
   "source": [
    "def main():\n",
    "\n",
    "    maze = [[0, 0, 0, 0, 1, 0, 0, 0, 0, 0],\n",
    "            [0, 0, 0, 0, 1, 0, 0, 0, 0, 0],\n",
    "            [0, 0, 0, 0, 1, 0, 0, 0, 0, 0],\n",
    "            [0, 0, 0, 0, 1, 0, 0, 0, 0, 0],\n",
    "            [0, 0, 0, 0, 1, 0, 0, 0, 0, 0],\n",
    "            [0, 0, 0, 0, 0, 0, 0, 0, 0, 0],\n",
    "            [0, 0, 0, 0, 1, 0, 0, 0, 0, 0],\n",
    "            [0, 0, 0, 0, 1, 0, 0, 0, 0, 0],\n",
    "            [0, 0, 0, 0, 1, 0, 0, 0, 0, 0],\n",
    "            [0, 0, 0, 0, 0, 0, 0, 0, 0, 0]]\n",
    "\n",
    "    start = (0, 0)\n",
    "    end = (7, 6)\n",
    "\n",
    "    path = astar(maze, start, end)\n",
    "    print(path)"
   ]
  },
  {
   "cell_type": "code",
   "execution_count": 3,
   "metadata": {},
   "outputs": [
    {
     "name": "stdout",
     "output_type": "stream",
     "text": [
      "[(0, 0), (1, 1), (2, 2), (3, 3), (4, 3), (5, 4), (6, 5), (7, 6)]\n"
     ]
    }
   ],
   "source": [
    "main()"
   ]
  }
 ],
 "metadata": {
  "kernelspec": {
   "display_name": "robot",
   "language": "python",
   "name": "python3"
  },
  "language_info": {
   "codemirror_mode": {
    "name": "ipython",
    "version": 3
   },
   "file_extension": ".py",
   "mimetype": "text/x-python",
   "name": "python",
   "nbconvert_exporter": "python",
   "pygments_lexer": "ipython3",
   "version": "3.11.5"
  }
 },
 "nbformat": 4,
 "nbformat_minor": 2
}
