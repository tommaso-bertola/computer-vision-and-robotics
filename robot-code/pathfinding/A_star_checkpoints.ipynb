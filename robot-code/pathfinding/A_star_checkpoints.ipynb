{
 "cells": [
  {
   "cell_type": "code",
   "execution_count": 113,
   "metadata": {},
   "outputs": [],
   "source": [
    "import numpy as np\n",
    "import math\n",
    "import heapq\n",
    "\n",
    "import matplotlib.pyplot as plt\n",
    "from matplotlib.patches import Circle\n",
    "import numpy as np\n",
    "import matplotlib.pyplot as plt\n",
    "from a_star import maze_plot\n",
    "import pickle\n",
    "from shapely.geometry import Polygon, LineString\n",
    "from shapely.geometry import Point\n",
    "from magic import ordinator\n"
   ]
  },
  {
   "cell_type": "code",
   "execution_count": 114,
   "metadata": {},
   "outputs": [
    {
     "name": "stdout",
     "output_type": "stream",
     "text": [
      "Missing 2 nodes to close the polygon; min_dist = 2.5830176518299472\n",
      "Missing 1 nodes to close the polygon; min_dist = 0.70293141703667\n"
     ]
    }
   ],
   "source": [
    "with open(r\"SLAM20240124_101335.pickle\", \"rb\") as input_file:\n",
    "    e = pickle.load(input_file)\n",
    "\n",
    "positions = e['positions']\n",
    "ids = e['ids']\n",
    "\n",
    "positions_array = np.array(positions)\n",
    "positions_array = np.array(positions)\n",
    "\n",
    "mask_external = (ids % 3 == 2) & (ids >= 100) & (ids <= 1000)\n",
    "mask_internal = (ids % 3 == 0) & (ids >= 100) & (ids <= 1000)\n",
    "\n",
    "ids_external = ids[mask_external]\n",
    "ids_internal = ids[mask_internal]\n",
    "\n",
    "positions_external = positions_array[mask_external]\n",
    "positions_internal = positions_array[mask_internal]\n",
    "\n",
    "\n",
    "pos_list_ext = [pos for pos in positions_external]\n",
    "pos_list_int = [pos for pos in positions_internal]\n",
    "\n",
    "external_ordered = np.array(ordinator(pos_list_ext,max_distance=0.6))\n",
    "internal_ordered = np.array(ordinator(pos_list_int))\n",
    "\n",
    "spatial_step=0.03\n",
    "max_x=np.max(external_ordered[:,0])\n",
    "max_y=np.max(external_ordered[:,1])\n",
    "min_x=np.min(external_ordered[:,0])\n",
    "min_y=np.min(external_ordered[:,1])\n",
    "delta_x=max_x-min_x\n",
    "delta_y=max_y-min_y\n",
    "center_x=min_x+delta_x/2\n",
    "center_y=min_y+delta_y/2\n",
    "\n",
    "n_x = int(delta_x/spatial_step/1.5)\n",
    "n_y = int(delta_y/spatial_step/1.5)\n",
    "\n",
    "ext_ordered_poly = Polygon(external_ordered)\n",
    "int_ordered_poly = Polygon(internal_ordered)\n",
    "\n",
    "x = np.linspace(min(np.concatenate([external_ordered[:, 0], internal_ordered[:, 0]])), max(\n",
    "    np.concatenate([external_ordered[:, 0], internal_ordered[:, 0]])), n_x)\n",
    "y = np.linspace(min(np.concatenate([external_ordered[:, 1], internal_ordered[:, 1]])), max(\n",
    "    np.concatenate([external_ordered[:, 1], internal_ordered[:, 1]])), n_y)\n",
    "X, Y = np.meshgrid(x, y)\n",
    "\n",
    "# Create a mask where the pixels inside the first circle and outside the second circle are set to 1, and all others are set to 0\n",
    "mask = np.array([[ext_ordered_poly.contains(Point(x[i], y[j])) and not int_ordered_poly.contains(\n",
    "    Point(x[i], y[j])) for i in range(len(x))] for j in range(len(y))])\n",
    "\n",
    "mask = 1-mask"
   ]
  },
  {
   "cell_type": "code",
   "execution_count": 115,
   "metadata": {},
   "outputs": [
    {
     "name": "stdout",
     "output_type": "stream",
     "text": [
      "[(0.38843462369917703, -0.29210255312100625), (-0.288022607301126, 1.692871959054671), (-2.1506122259138, 1.1547794783382601), (-0.9258812765071667, -0.9054430632720127), (0.5450499317743625, -0.41276500060284327)]\n"
     ]
    }
   ],
   "source": [
    "# Define the number of checkpoints\n",
    "num_checkpoints = 5\n",
    "\n",
    "# Get the coordinates of the external polygon\n",
    "coords = external_ordered.tolist()\n",
    "\n",
    "# Create a LineString object from the coordinates\n",
    "line = LineString(coords)\n",
    "\n",
    "# Calculate the total length of the line\n",
    "total_length = line.length\n",
    "\n",
    "# Calculate the spacing between checkpoints\n",
    "spacing = total_length / (num_checkpoints - 1)\n",
    "\n",
    "# Generate the checkpoints\n",
    "checkpoints = []\n",
    "for i in range(num_checkpoints):\n",
    "    # Calculate the distance along the line\n",
    "    dist = i * spacing\n",
    "\n",
    "    # Find the point at this distance along the line\n",
    "    checkpoint = line.interpolate(dist)\n",
    "\n",
    "    # Convert the point to a tuple and add it to the list of checkpoints\n",
    "    checkpoints.append(tuple(checkpoint.coords[0]))\n",
    "\n",
    "print(checkpoints)"
   ]
  },
  {
   "cell_type": "code",
   "execution_count": 116,
   "metadata": {},
   "outputs": [],
   "source": [
    "# ext_ordered_line = LineString(external_ordered)  # Create a LineString for interpolation\n",
    "\n",
    "# def interpolate_points(line, interval):\n",
    "#     num_points = int(line.length / interval)\n",
    "#     points = [line.interpolate(distance) for distance in np.linspace(0, line.length, num_points)]\n",
    "#     return np.array([[point.x, point.y] for point in points])\n",
    "\n",
    "\n",
    "# interval = 2\n",
    "# # Interpolate points along the external boundary\n",
    "# checkpoints = interpolate_points(ext_ordered_line, interval)\n",
    "\n",
    "# print(len(checkpoints))\n",
    "# # print(checkpoints)"
   ]
  },
  {
   "cell_type": "code",
   "execution_count": 117,
   "metadata": {},
   "outputs": [
    {
     "name": "stdout",
     "output_type": "stream",
     "text": [
      "Adjusted checkpoints: [(56, 27), (38, 66), (5, 55), (28, 14), (56, 28)]\n"
     ]
    }
   ],
   "source": [
    "# Transform coordinates into the mask cooordinate system\n",
    "transformed_checkpoints = []\n",
    "for cp in checkpoints:\n",
    "    # Map real-world coordinates to mask indices\n",
    "    ix = np.argmin(np.abs(x - cp[0]))\n",
    "    iy = np.argmin(np.abs(y - cp[1]))\n",
    "    transformed_checkpoints.append((ix, iy))\n",
    "\n",
    "\n",
    "def adjust_checkpoint(checkpoint, maze, step_size=4):\n",
    "    \"\"\"\n",
    "    Move the checkpoint towards the center of the maze until it is on a steppable area.\n",
    "    :param checkpoint: The original checkpoint coordinates (tuple).\n",
    "    :param maze: The 2D maze array.\n",
    "    :param step_size: The step size towards the center.\n",
    "    :return: Adjusted checkpoint coordinates (tuple).\n",
    "    \"\"\"\n",
    "    max_y, max_x = maze.shape  # Assuming maze is a 2D numpy array\n",
    "    center_x, center_y = max_x // 2, max_y // 2\n",
    "\n",
    "    adjusted_x, adjusted_y = checkpoint\n",
    "\n",
    "    while maze[adjusted_y, adjusted_x] != 0:\n",
    "        # Move the checkpoint towards the center\n",
    "        if adjusted_x < center_x:\n",
    "            adjusted_x += step_size\n",
    "        elif adjusted_x > center_x:\n",
    "            adjusted_x -= step_size\n",
    "\n",
    "        if adjusted_y < center_y:\n",
    "            adjusted_y += step_size\n",
    "        elif adjusted_y > center_y:\n",
    "            adjusted_y -= step_size\n",
    "\n",
    "        # Check bounds\n",
    "        adjusted_x = max(0, min(adjusted_x, max_x - 1))\n",
    "        adjusted_y = max(0, min(adjusted_y, max_y - 1))\n",
    "\n",
    "        # If already at center or cannot move further, break\n",
    "        if (adjusted_x == center_x and adjusted_y == center_y) or maze[adjusted_y, adjusted_x] == 0:\n",
    "            break\n",
    "\n",
    "    return adjusted_x, adjusted_y\n",
    "\n",
    "adjusted_checkpoints = [adjust_checkpoint(checkpoint, mask) for checkpoint in transformed_checkpoints]\n",
    "\n",
    "# def filter_close_checkpoints(checkpoints, min_distance):\n",
    "#     filtered_checkpoints = []\n",
    "#     for i in range(len(checkpoints) - 1):\n",
    "#         if np.linalg.norm(np.array(checkpoints[i]) - np.array(checkpoints[i+1])) >= min_distance:\n",
    "#             filtered_checkpoints.append(checkpoints[i])\n",
    "#     filtered_checkpoints.append(checkpoints[-1])  # Always include the last checkpoint\n",
    "#     return filtered_checkpoints\n",
    "\n",
    "print(\"Adjusted checkpoints:\",adjusted_checkpoints)\n",
    "\n",
    "# filtered_adjusted_checkpoints = filter_close_checkpoints(adjusted_checkpoints, 7)\n",
    "\n",
    "# print(\"Filtered adjusted checkpoints:\", filtered_adjusted_checkpoints)"
   ]
  },
  {
   "cell_type": "code",
   "execution_count": 118,
   "metadata": {},
   "outputs": [
    {
     "data": {
      "image/png": "[encoded data removed]",
      "text/plain": [
       "<Figure size 640x480 with 1 Axes>"
      ]
     },
     "metadata": {},
     "output_type": "display_data"
    },
    {
     "data": {
      "text/plain": [
       "(84, 67)"
      ]
     },
     "execution_count": 118,
     "metadata": {},
     "output_type": "execute_result"
    }
   ],
   "source": [
    "start = (30,70)\n",
    "\n",
    "##############################\n",
    "# Sorting the checkpoints!!\n",
    "##############################\n",
    "\n",
    "# distances = [np.sqrt((cp[0]-start[0])**2 + (cp[1]-start[1])**2) for cp in adjusted_checkpoints]\n",
    "# # Pair each checkpoint with its distance from the start point\n",
    "# checkpoints_with_distances = list(zip(adjusted_checkpoints, distances))\n",
    "\n",
    "# # Sort the checkpoints based on their distance from the start point\n",
    "# sorted_checkpoints = sorted(checkpoints_with_distances, key=lambda x: x[1])\n",
    "\n",
    "# # Extract the sorted checkpoints\n",
    "# sorted_checkpoints = [cp[0] for cp in sorted_checkpoints]\n",
    "\n",
    "\n",
    "plt.imshow(mask, interpolation='nearest', origin='upper')\n",
    "# plt.axvline(center_x, color='blue')\n",
    "plt.scatter(start[0], start[1], color='green',)\n",
    "# for checkpoint in adjusted_checkpoints:\n",
    "#     plt.scatter(checkpoint[0], checkpoint[1], color='red')\n",
    "# # plt.scatter(center_x, center_y, color='blue')\n",
    "i = 2\n",
    "# plt.scatter(sorted_checkpoints[i][0], sorted_checkpoints[i][1], color=\"red\")\n",
    "plt.scatter(adjusted_checkpoints[i][0], adjusted_checkpoints[i][1], color=\"red\")\n",
    "\n",
    "plt.show()\n",
    "mask.shape"
   ]
  },
  {
   "cell_type": "code",
   "execution_count": 119,
   "metadata": {},
   "outputs": [],
   "source": [
    "def heuristic_(a, b):\n",
    "    # Chebyshev distance\n",
    "    (x1, y1) = a\n",
    "    (x2, y2) = b\n",
    "    return max(abs(x1 - x2), abs(y1 - y2))\n",
    "\n",
    "def astar(maze, start, end):\n",
    "    moves = [(0, 1), (0, -1), (1, 0), (-1, 0),\n",
    "             (1, 1), (-1, -1), (-1, 1), (1, -1)]\n",
    "    close_set = set()\n",
    "    came_from = {}\n",
    "    gscore = {start: 0}\n",
    "    fscore = {start: heuristic_(start, end)}\n",
    "    oheap = []\n",
    "    open_set_hash = set([start])  # To check efficiently if a node is in the open set\n",
    "\n",
    "    def neighbors_available(position):\n",
    "        neighbors = []\n",
    "        for move in moves:\n",
    "            x_test, y_test = position[0] + move[0], position[1] + move[1]\n",
    "            if 0 <= x_test < maze.shape[0] and 0 <= y_test < maze.shape[1]:\n",
    "                if maze[x_test, y_test] != 1:\n",
    "                    neighbors.append((x_test, y_test))\n",
    "        return neighbors\n",
    "\n",
    "    heapq.heappush(oheap, (fscore[start], start))\n",
    "\n",
    "    while oheap:\n",
    "        current = heapq.heappop(oheap)[1]\n",
    "        open_set_hash.remove(current)\n",
    "\n",
    "        if current == end:\n",
    "            data = []\n",
    "            while current in came_from:\n",
    "                data.append(current)\n",
    "                current = came_from[current]\n",
    "            return data[::-1]  # Reversing the path\n",
    "\n",
    "        close_set.add(current)\n",
    "        for neighbor in neighbors_available(current):\n",
    "            tentative_g_score = gscore[current] + 1\n",
    "\n",
    "            if neighbor in close_set and tentative_g_score >= gscore.get(neighbor, 0):\n",
    "                continue\n",
    "\n",
    "            if tentative_g_score < gscore.get(neighbor, 0) or neighbor not in open_set_hash:\n",
    "                came_from[neighbor] = current\n",
    "                gscore[neighbor] = tentative_g_score\n",
    "                fscore[neighbor] = tentative_g_score + heuristic_(neighbor, end)\n",
    "                if neighbor not in open_set_hash:\n",
    "                    heapq.heappush(oheap, (fscore[neighbor], neighbor))\n",
    "                    open_set_hash.add(neighbor)\n",
    "\n",
    "    return False\n",
    "\n",
    "def astar_with_checkpoints(maze, start, checkpoints):\n",
    "    path = []\n",
    "    current_start = start\n",
    "\n",
    "    for checkpoint in checkpoints:\n",
    "        segment = astar(maze, current_start, checkpoint)\n",
    "        if segment:\n",
    "            path.extend(segment)\n",
    "            current_start = checkpoint\n",
    "        else:\n",
    "            print(f\"Path not found for segment to checkpoint {checkpoint}\")\n",
    "            return None  # Path not found for a segment\n",
    "\n",
    "    # Optional: return to start\n",
    "    return_to_start_segment = astar(maze, current_start, start)\n",
    "    if return_to_start_segment:\n",
    "        path.extend(return_to_start_segment)\n",
    "\n",
    "    return path\n"
   ]
  },
  {
   "cell_type": "code",
   "execution_count": 120,
   "metadata": {},
   "outputs": [
    {
     "data": {
      "image/png": "[encoded data removed]",
      "text/plain": [
       "<Figure size 640x480 with 1 Axes>"
      ]
     },
     "metadata": {},
     "output_type": "display_data"
    },
    {
     "name": "stdout",
     "output_type": "stream",
     "text": [
      "[(30, 70), (29, 69), (29, 68), (30, 67), (31, 66), (32, 65), (33, 64), (34, 63), (35, 62), (36, 61), (37, 60), (38, 59), (39, 58), (40, 57), (40, 56), (41, 55), (41, 54), (41, 53), (41, 52), (40, 51), (40, 50), (39, 49), (39, 48), (40, 47), (40, 46), (41, 45), (42, 44), (43, 43), (44, 42), (45, 41), (46, 40), (47, 39), (48, 38), (47, 37), (48, 36), (49, 35), (50, 34), (51, 33), (52, 32), (53, 31), (54, 30), (55, 29), (56, 28), (55, 27), (54, 26), (53, 25), (52, 24), (51, 23), (50, 22), (49, 21), (48, 20), (48, 19), (47, 18), (46, 18), (45, 17), (44, 16), (43, 15), (42, 14), (41, 13), (40, 12), (39, 11), (38, 10), (37, 9), (36, 8), (35, 7), (34, 8), (33, 9), (32, 10), (31, 11), (30, 12), (29, 13), (28, 14), (28, 15), (28, 16), (28, 17), (28, 18), (27, 19), (27, 20), (27, 21), (27, 22), (26, 23), (26, 24), (26, 25), (25, 26), (25, 27), (24, 28), (24, 29), (23, 30), (23, 31), (23, 32), (22, 33), (21, 34), (21, 35), (20, 36), (20, 37), (19, 38), (18, 39), (18, 40), (17, 41), (16, 42), (15, 43), (14, 44), (13, 45), (13, 46), (12, 47), (11, 47), (10, 47), (9, 48), (8, 49), (7, 50), (6, 51), (6, 52), (5, 53), (4, 54), (5, 55), (6, 54), (7, 53), (8, 52), (9, 51), (10, 50), (11, 49), (12, 49), (13, 50), (14, 51), (15, 52), (16, 53), (17, 54), (18, 55), (19, 56), (20, 57), (21, 58), (22, 59), (23, 60), (24, 60), (25, 61), (26, 61), (27, 62), (28, 62), (29, 62), (30, 62), (31, 62), (32, 62), (33, 62), (34, 62), (35, 63), (36, 64), (37, 65), (38, 66), (37, 65), (36, 64), (35, 63), (35, 62), (36, 61), (37, 60), (38, 59), (39, 58), (40, 57), (40, 56), (41, 55), (41, 54), (41, 53), (41, 52), (40, 51), (40, 50), (39, 49), (39, 48), (40, 47), (40, 46), (41, 45), (42, 44), (43, 43), (44, 42), (45, 41), (46, 40), (47, 39), (48, 38), (47, 37), (48, 36), (48, 35), (49, 34), (50, 33), (51, 32), (52, 31), (53, 30), (54, 29), (55, 28), (56, 27), (55, 28), (54, 29), (53, 30), (52, 31), (51, 32), (50, 33), (49, 34), (48, 35), (48, 36), (47, 37), (48, 38), (48, 39), (48, 40), (48, 41), (48, 42), (47, 43), (46, 44), (46, 45), (46, 46), (46, 47), (45, 48), (44, 49), (43, 50), (42, 51), (41, 52), (41, 53), (41, 54), (41, 55), (40, 56), (40, 57), (39, 58), (38, 59), (37, 60), (36, 61), (35, 62), (34, 62), (33, 63), (32, 64), (32, 65), (31, 66), (31, 67), (30, 68), (29, 69)]\n"
     ]
    }
   ],
   "source": [
    "def maze_plot_with_checkpoints(maze, start, checkpoints):\n",
    "    # Adjusting the start and checkpoints for the coordinate system of the maze\n",
    "    adjusted_start = start[::-1]  # If necessary, adjust this according to your maze's coordinate system\n",
    "    adjusted_checkpoints = [checkpoint[::-1] for checkpoint in checkpoints]  # Adjusting checkpoints\n",
    "\n",
    "    # Using the modified A* function for checkpoints\n",
    "    full_path = astar_with_checkpoints(maze, adjusted_start, adjusted_checkpoints)\n",
    "    if full_path is None:\n",
    "        print(\"Path not found\")\n",
    "        return\n",
    "\n",
    "    plt.imshow(maze, origin='upper')\n",
    "\n",
    "    # Plot the path\n",
    "    for point in full_path:\n",
    "        plt.scatter(point[1], point[0], color='red')  # Ensure correct order for x, y plotting\n",
    "\n",
    "    # Plot the checkpoints\n",
    "    for checkpoint in checkpoints:\n",
    "        plt.scatter(checkpoint[0], checkpoint[1], color='blue', s=50)  # Mark checkpoints in blue\n",
    "\n",
    "    plt.show()\n",
    "    \n",
    "    # Convert path back to original coordinate system if necessary\n",
    "    full_path = [(x[1], x[0]) for x in full_path]\n",
    "    print(full_path[::-1])  # Print the path in the original coordinate system\n",
    "\n",
    "\n",
    "maze_plot_with_checkpoints(mask, start, adjusted_checkpoints)"
   ]
  },
  {
   "cell_type": "code",
   "execution_count": null,
   "metadata": {},
   "outputs": [],
   "source": []
  }
 ],
 "metadata": {
  "kernelspec": {
   "display_name": "robot",
   "language": "python",
   "name": "python3"
  },
  "language_info": {
   "codemirror_mode": {
    "name": "ipython",
    "version": 3
   },
   "file_extension": ".py",
   "mimetype": "text/x-python",
   "name": "python",
   "nbconvert_exporter": "python",
   "pygments_lexer": "ipython3",
   "version": "3.11.5"
  }
 },
 "nbformat": 4,
 "nbformat_minor": 2
}
