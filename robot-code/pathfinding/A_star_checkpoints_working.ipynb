{
 "cells": [
  {
   "cell_type": "code",
   "execution_count": 139,
   "metadata": {},
   "outputs": [],
   "source": [
    "import numpy as np\n",
    "import math\n",
    "import heapq\n",
    "\n",
    "import matplotlib.pyplot as plt\n",
    "from matplotlib.patches import Circle\n",
    "import numpy as np\n",
    "import matplotlib.pyplot as plt\n",
    "from a_star import maze_plot\n",
    "import pickle\n",
    "from shapely.geometry import Polygon, LineString\n",
    "from shapely.geometry import Point\n",
    "from magic import ordinator\n",
    "import cv2"
   ]
  },
  {
   "cell_type": "code",
   "execution_count": 140,
   "metadata": {},
   "outputs": [
    {
     "data": {
      "image/png": "[encoded data removed]",
      "text/plain": [
       "<Figure size 640x480 with 1 Axes>"
      ]
     },
     "metadata": {},
     "output_type": "display_data"
    },
    {
     "name": "stdout",
     "output_type": "stream",
     "text": [
      "Missing 2 nodes to close the polygon; min_dist = 0.6166924746522137\n"
     ]
    }
   ],
   "source": [
    "# with open(r\"SLAM20240124_101335.pickle\", \"rb\") as input_file:\n",
    "with open(r\"SLAM20240121_162038.pickle\", \"rb\") as input_file:\n",
    "    e = pickle.load(input_file)\n",
    "\n",
    "positions = e['positions']\n",
    "ids = e['ids']\n",
    "\n",
    "for i, pos_zip in enumerate(zip(positions, ids)):\n",
    "    col = pos_zip[1] % 3\n",
    "    if col == 0:\n",
    "        col2 = 'green'\n",
    "    elif col == 1:\n",
    "        col2 = 'red'\n",
    "    elif col == 2:\n",
    "        col2 = 'blue'\n",
    "    if pos_zip[1] < 100:\n",
    "        col2 = 'black'\n",
    "    plt.scatter(*pos_zip[0], color=col2)\n",
    "\n",
    "plt.scatter(0, 0, color='orange', marker='3',)\n",
    "plt.gca().set_aspect('equal')\n",
    "plt.show()\n",
    "\n",
    "\n",
    "positions_array = np.array(positions)\n",
    "positions_array = np.array(positions)\n",
    "\n",
    "mask_external = (ids % 3 == 2) & (ids >= 100) & (ids <= 1000)\n",
    "mask_internal = (ids % 3 == 0) & (ids >= 100) & (ids <= 1000)\n",
    "\n",
    "ids_external = ids[mask_external]\n",
    "ids_internal = ids[mask_internal]\n",
    "\n",
    "positions_external = positions_array[mask_external]\n",
    "positions_internal = positions_array[mask_internal]\n",
    "\n",
    "\n",
    "pos_list_ext = [pos for pos in positions_external]\n",
    "pos_list_int = [pos for pos in positions_internal]\n",
    "\n",
    "external_ordered = np.array(ordinator(pos_list_ext,max_distance=0.6))\n",
    "internal_ordered = np.array(ordinator(pos_list_int))\n",
    "\n",
    "spatial_step=0.03\n",
    "max_x=np.max(external_ordered[:,0])\n",
    "max_y=np.max(external_ordered[:,1])\n",
    "min_x=np.min(external_ordered[:,0])\n",
    "min_y=np.min(external_ordered[:,1])\n",
    "delta_x=max_x-min_x\n",
    "delta_y=max_y-min_y\n",
    "center_x=min_x+delta_x/2\n",
    "center_y=min_y+delta_y/2\n",
    "\n",
    "n_x = int(delta_x/spatial_step/1.5)\n",
    "n_y = int(delta_y/spatial_step/1.5)\n",
    "\n",
    "ext_ordered_poly = Polygon(external_ordered)\n",
    "int_ordered_poly = Polygon(internal_ordered)\n",
    "\n",
    "x = np.linspace(min(np.concatenate([external_ordered[:, 0], internal_ordered[:, 0]])), max(\n",
    "    np.concatenate([external_ordered[:, 0], internal_ordered[:, 0]])), n_x)\n",
    "y = np.linspace(min(np.concatenate([external_ordered[:, 1], internal_ordered[:, 1]])), max(\n",
    "    np.concatenate([external_ordered[:, 1], internal_ordered[:, 1]])), n_y)\n",
    "X, Y = np.meshgrid(x, y)\n",
    "\n",
    "# Create a mask where the pixels inside the first circle and outside the second circle are set to 1, and all others are set to 0\n",
    "mask = np.array([[ext_ordered_poly.contains(Point(x[i], y[j])) and not int_ordered_poly.contains(\n",
    "    Point(x[i], y[j])) for i in range(len(x))] for j in range(len(y))])\n",
    "\n",
    "mask = 1-mask"
   ]
  },
  {
   "cell_type": "code",
   "execution_count": 141,
   "metadata": {},
   "outputs": [],
   "source": [
    "def find_checkpoint_in_quadrant(maze, x_range, y_range):\n",
    "    for y in range(y_range[0], y_range[1]):\n",
    "        for x in range(x_range[0], x_range[1]):\n",
    "            if maze[x, y] == 0:\n",
    "                return (x, y)\n",
    "    return None  # If no suitable point is found\n",
    "\n",
    "# def find_checkpoint_in_quadrant_right(maze, x_range, y_range):\n",
    "#     furthest_point = None\n",
    "#     for y in range(y_range[0], y_range[1]):\n",
    "#         for x in range(x_range[1]-1, x_range[0]-1, -1): # Iterate in reverse order\n",
    "#             if maze[x, y] == 0:\n",
    "#                 furthest_point = (x, y)\n",
    "#     return furthest_point # Return the furthest suitable point\n",
    "\n",
    "def find_checkpoint_in_quadrant_right(maze, x_range, y_range, limit=100):\n",
    "    furthest_point = None\n",
    "    count = 0\n",
    "    for y in range(y_range[0], y_range[1]):\n",
    "        for x in range(x_range[1]-1, x_range[0]-1, -1): # Iterate in reverse order\n",
    "            if maze[x, y] == 0:\n",
    "                furthest_point = (x, y)\n",
    "                count += 1\n",
    "                if count >= limit:\n",
    "                    break\n",
    "        if count >= limit:\n",
    "            break\n",
    "    return furthest_point # Return the furthest suitable point within the limit\n",
    "\n",
    "\n",
    "def generate_quadrant_checkpoints(maze):\n",
    "    height, width = maze.shape\n",
    "    checkpoints = []\n",
    "    \n",
    "    # Quadrants: [(x_range, y_range), ...]\n",
    "    quadrants = [\n",
    "        ((height//2, height), (width//2, width)),  # Lower-Right\n",
    "        ((0, height//2), (width//2, width)),       # Upper-Right\n",
    "        ((0, height//2), (0, width//2)),           # Upper-Left\n",
    "        # ((height//2, height), (0, width//2)),      # Lower-Left\n",
    "    ]\n",
    "\n",
    "    # for quadrant in quadrants:\n",
    "    #     checkpoint = find_checkpoint_in_quadrant(maze, *quadrant)\n",
    "    #     if checkpoint:\n",
    "    #         checkpoints.append(checkpoint)\n",
    "\n",
    "    for quadrant in quadrants:\n",
    "        if quadrant == ((height//2, height), (width//2, width)): # If it's the lower-right quadrant\n",
    "            checkpoint = find_checkpoint_in_quadrant_right(maze, *quadrant) # Use a different function\n",
    "        else:\n",
    "            checkpoint = find_checkpoint_in_quadrant(maze, *quadrant)\n",
    "        if checkpoint:\n",
    "            checkpoints.append(checkpoint)\n",
    "\n",
    "\n",
    "    return checkpoints"
   ]
  },
  {
   "cell_type": "code",
   "execution_count": 142,
   "metadata": {},
   "outputs": [
    {
     "name": "stdout",
     "output_type": "stream",
     "text": [
      "[(25, 36), (1, 25), (8, 1)]\n",
      "(32, 51)\n"
     ]
    }
   ],
   "source": [
    "checkpoints = generate_quadrant_checkpoints(mask)\n",
    "print(checkpoints)\n",
    "print(mask.shape)"
   ]
  },
  {
   "cell_type": "code",
   "execution_count": 143,
   "metadata": {},
   "outputs": [
    {
     "data": {
      "image/png": "[encoded data removed]",
      "text/plain": [
       "<Figure size 640x480 with 1 Axes>"
      ]
     },
     "metadata": {},
     "output_type": "display_data"
    },
    {
     "name": "stdout",
     "output_type": "stream",
     "text": [
      "(32, 51)\n"
     ]
    }
   ],
   "source": [
    "#################################\n",
    "# Change start according to map\n",
    "#################################\n",
    "\n",
    "start = (20,30)\n",
    "# start = (70,30)\n",
    "\n",
    "plt.imshow(mask, interpolation='nearest', origin='upper')\n",
    "# plt.axvline(center_x, color='blue')\n",
    "plt.scatter(start[1], start[0], color='red')\n",
    "\n",
    "i = 0\n",
    "plt.scatter(checkpoints[i][1], checkpoints[i][0], color=\"blue\")\n",
    "# plt.scatter(20,70, color=\"red\")\n",
    "\n",
    "plt.show()\n",
    "mask.shape\n",
    "\n",
    "# print(mask[70][20])\n",
    "print(mask.shape)"
   ]
  },
  {
   "cell_type": "code",
   "execution_count": 144,
   "metadata": {},
   "outputs": [],
   "source": [
    "def heuristic_(a, b):\n",
    "    # Chebyshev distance\n",
    "    (x1, y1) = a\n",
    "    (x2, y2) = b\n",
    "    return max(abs(x1 - x2), abs(y1 - y2))\n",
    "\n",
    "def astar(maze, start, end):\n",
    "    moves = [(0, 1), (0, -1), (1, 0), (-1, 0),\n",
    "             (1, 1), (-1, -1), (-1, 1), (1, -1)]\n",
    "    close_set = set()\n",
    "    came_from = {}\n",
    "    gscore = {start: 0}\n",
    "    fscore = {start: heuristic_(start, end)}\n",
    "    oheap = []\n",
    "    open_set_hash = set([start])  # To check efficiently if a node is in the open set\n",
    "\n",
    "    def neighbors_available(position):\n",
    "        neighbors = []\n",
    "        for move in moves:\n",
    "            x_test, y_test = position[0] + move[0], position[1] + move[1]\n",
    "            if 0 <= x_test < maze.shape[0] and 0 <= y_test < maze.shape[1]:\n",
    "                if maze[x_test, y_test] != 1:\n",
    "                    neighbors.append((x_test, y_test))\n",
    "        return neighbors\n",
    "\n",
    "    heapq.heappush(oheap, (fscore[start], start))\n",
    "\n",
    "    while oheap:\n",
    "        current = heapq.heappop(oheap)[1]\n",
    "        open_set_hash.remove(current)\n",
    "\n",
    "        if current == end:\n",
    "            data = []\n",
    "            while current in came_from:\n",
    "                data.append(current)\n",
    "                current = came_from[current]\n",
    "            return data[::-1]  # Reversing the path\n",
    "\n",
    "        close_set.add(current)\n",
    "        for neighbor in neighbors_available(current):\n",
    "            tentative_g_score = gscore[current] + 1\n",
    "\n",
    "            if neighbor in close_set and tentative_g_score >= gscore.get(neighbor, 0):\n",
    "                continue\n",
    "\n",
    "            if tentative_g_score < gscore.get(neighbor, 0) or neighbor not in open_set_hash:\n",
    "                came_from[neighbor] = current\n",
    "                gscore[neighbor] = tentative_g_score\n",
    "                fscore[neighbor] = tentative_g_score + heuristic_(neighbor, end)\n",
    "                if neighbor not in open_set_hash:\n",
    "                    heapq.heappush(oheap, (fscore[neighbor], neighbor))\n",
    "                    open_set_hash.add(neighbor)\n",
    "\n",
    "    return False\n",
    "\n",
    "def astar_with_checkpoints(maze, start, checkpoints):\n",
    "    path = []\n",
    "    current_start = start\n",
    "\n",
    "    for checkpoint in checkpoints:\n",
    "        segment = astar(maze, current_start, checkpoint)\n",
    "        if segment:\n",
    "            path.extend(segment)\n",
    "            current_start = checkpoint\n",
    "        else:\n",
    "            print(f\"Path not found for segment to checkpoint {checkpoint}\")\n",
    "            return None  # Path not found for a segment\n",
    "\n",
    "    # Optional: return to start\n",
    "    return_to_start_segment = astar(maze, current_start, start)\n",
    "    if return_to_start_segment:\n",
    "        path.extend(return_to_start_segment)\n",
    "\n",
    "    return path\n"
   ]
  },
  {
   "cell_type": "code",
   "execution_count": 145,
   "metadata": {},
   "outputs": [
    {
     "data": {
      "image/png": "[encoded data removed]",
      "text/plain": [
       "<Figure size 640x480 with 1 Axes>"
      ]
     },
     "metadata": {},
     "output_type": "display_data"
    },
    {
     "name": "stdout",
     "output_type": "stream",
     "text": [
      "[(20, 30), (19, 29), (18, 28), (17, 27), (16, 26), (15, 25), (15, 24), (16, 23), (16, 22), (16, 21), (16, 20), (17, 19), (17, 18), (17, 17), (17, 16), (16, 15), (15, 14), (14, 13), (13, 12), (12, 11), (11, 10), (10, 9), (9, 8), (8, 7), (7, 6), (6, 5), (6, 4), (6, 3), (7, 2), (8, 1), (7, 2), (6, 3), (6, 4), (5, 5), (5, 6), (5, 7), (4, 8), (4, 9), (4, 10), (4, 11), (4, 12), (3, 13), (3, 14), (3, 15), (3, 16), (3, 17), (3, 18), (3, 19), (2, 20), (2, 21), (1, 22), (1, 23), (1, 24), (1, 25), (1, 26), (1, 27), (2, 28), (3, 29), (4, 30), (5, 31), (6, 32), (7, 33), (8, 34), (9, 35), (10, 36), (11, 37), (12, 38), (13, 39), (14, 39), (15, 40), (16, 39), (17, 38), (18, 37), (19, 37), (20, 36), (21, 36), (22, 35), (23, 34), (24, 35), (25, 36), (24, 35), (23, 34), (22, 33), (21, 32), (20, 31)]\n"
     ]
    }
   ],
   "source": [
    "def maze_plot_with_checkpoints(maze, start, checkpoints):\n",
    "\n",
    "    # Using the modified A* function for checkpoints\n",
    "    full_path = astar_with_checkpoints(maze, start, checkpoints)\n",
    "    if full_path is None:\n",
    "        print(\"Path not found\")\n",
    "        return\n",
    "\n",
    "    plt.imshow(maze, origin='upper')\n",
    "\n",
    "    # Plot the path\n",
    "    for point in full_path:\n",
    "        plt.scatter(point[1], point[0], color='blue')  # Ensure correct order for x, y plotting\n",
    "\n",
    "    # Plot the checkpoints and the start\n",
    "    plt.scatter(start[1],start[0], color='green')\n",
    "    for checkpoint in checkpoints:\n",
    "        plt.scatter(checkpoint[1], checkpoint[0], color='red', s=50)\n",
    "\n",
    "    plt.show()\n",
    "    \n",
    "    # Convert path back to original coordinate system if necessary\n",
    "    # full_path = [(x[1], x[0]) for x in full_path]\n",
    "    print(full_path[::-1])  # Print the path in the original coordinate system\n",
    "\n",
    "\n",
    "maze_plot_with_checkpoints(mask, start, checkpoints)"
   ]
  },
  {
   "cell_type": "code",
   "execution_count": null,
   "metadata": {},
   "outputs": [],
   "source": []
  }
 ],
 "metadata": {
  "kernelspec": {
   "display_name": "robot",
   "language": "python",
   "name": "python3"
  },
  "language_info": {
   "codemirror_mode": {
    "name": "ipython",
    "version": 3
   },
   "file_extension": ".py",
   "mimetype": "text/x-python",
   "name": "python",
   "nbconvert_exporter": "python",
   "pygments_lexer": "ipython3",
   "version": "3.11.5"
  }
 },
 "nbformat": 4,
 "nbformat_minor": 2
}
