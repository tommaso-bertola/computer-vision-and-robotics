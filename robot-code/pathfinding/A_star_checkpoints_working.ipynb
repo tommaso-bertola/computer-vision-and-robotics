{
 "cells": [
  {
   "cell_type": "code",
   "execution_count": 46,
   "metadata": {},
   "outputs": [],
   "source": [
    "import numpy as np\n",
    "import math\n",
    "import heapq\n",
    "\n",
    "import matplotlib.pyplot as plt\n",
    "from matplotlib.patches import Circle\n",
    "import numpy as np\n",
    "import matplotlib.pyplot as plt\n",
    "from a_star import maze_plot\n",
    "import pickle\n",
    "from shapely.geometry import Polygon, LineString\n",
    "from shapely.geometry import Point\n",
    "from magic import ordinator\n",
    "import cv2"
   ]
  },
  {
   "cell_type": "code",
   "execution_count": 47,
   "metadata": {},
   "outputs": [
    {
     "data": {
      "image/png": "[encoded data removed]",
      "text/plain": [
       "<Figure size 640x480 with 1 Axes>"
      ]
     },
     "metadata": {},
     "output_type": "display_data"
    },
    {
     "name": "stdout",
     "output_type": "stream",
     "text": [
      "Missing 2 nodes to close the polygon; min_dist = 2.5830176518299472\n",
      "Missing 1 nodes to close the polygon; min_dist = 0.70293141703667\n"
     ]
    }
   ],
   "source": [
    "with open(r\"SLAM20240124_101335.pickle\", \"rb\") as input_file:\n",
    "# with open(r\"SLAM20240121_162038.pickle\", \"rb\") as input_file:\n",
    "# with open(r\"SLAM20240124_162059.pickle\", \"rb\") as input_file:\n",
    "\n",
    "    e = pickle.load(input_file)\n",
    "\n",
    "positions = e['positions']\n",
    "ids = e['ids']\n",
    "ids = np.array(ids)\n",
    "\n",
    "for i, pos_zip in enumerate(zip(positions, ids)):\n",
    "    col = pos_zip[1] % 3\n",
    "    if col == 0:\n",
    "        col2 = 'green'\n",
    "    elif col == 1:\n",
    "        col2 = 'red'\n",
    "    elif col == 2:\n",
    "        col2 = 'blue'\n",
    "    if pos_zip[1] < 100:\n",
    "        col2 = 'black'\n",
    "    plt.scatter(*pos_zip[0], color=col2)\n",
    "\n",
    "plt.scatter(0, 0, color='orange', marker='3',)\n",
    "plt.gca().set_aspect('equal')\n",
    "plt.show()\n",
    "\n",
    "\n",
    "positions_array = np.array(positions)\n",
    "positions_array = np.array(positions)\n",
    "\n",
    "mask_external = (ids % 3 == 2) & (ids >= 100) & (ids <= 1000)\n",
    "mask_internal = (ids % 3 == 0) & (ids >= 100) & (ids <= 1000)\n",
    "\n",
    "ids_external = ids[mask_external]\n",
    "ids_internal = ids[mask_internal]\n",
    "\n",
    "positions_external = positions_array[mask_external]\n",
    "positions_internal = positions_array[mask_internal]\n",
    "\n",
    "\n",
    "pos_list_ext = [pos for pos in positions_external]\n",
    "pos_list_int = [pos for pos in positions_internal]\n",
    "\n",
    "external_ordered = np.array(ordinator(pos_list_ext,max_distance=0.6))\n",
    "internal_ordered = np.array(ordinator(pos_list_int))\n",
    "\n",
    "spatial_step=0.03\n",
    "max_x=np.max(external_ordered[:,0])\n",
    "max_y=np.max(external_ordered[:,1])\n",
    "min_x=np.min(external_ordered[:,0])\n",
    "min_y=np.min(external_ordered[:,1])\n",
    "delta_x=max_x-min_x\n",
    "delta_y=max_y-min_y\n",
    "center_x=min_x+delta_x/2\n",
    "center_y=min_y+delta_y/2\n",
    "\n",
    "n_x = int(delta_x/spatial_step/1.5)\n",
    "n_y = int(delta_y/spatial_step/1.5)\n",
    "\n",
    "ext_ordered_poly = Polygon(external_ordered)\n",
    "int_ordered_poly = Polygon(internal_ordered)\n",
    "\n",
    "x = np.linspace(min(np.concatenate([external_ordered[:, 0], internal_ordered[:, 0]])), max(\n",
    "    np.concatenate([external_ordered[:, 0], internal_ordered[:, 0]])), n_x)\n",
    "y = np.linspace(min(np.concatenate([external_ordered[:, 1], internal_ordered[:, 1]])), max(\n",
    "    np.concatenate([external_ordered[:, 1], internal_ordered[:, 1]])), n_y)\n",
    "X, Y = np.meshgrid(x, y)\n",
    "\n",
    "# Create a mask where the pixels inside the first circle and outside the second circle are set to 1, and all others are set to 0\n",
    "mask = np.array([[ext_ordered_poly.contains(Point(x[i], y[j])) and not int_ordered_poly.contains(\n",
    "    Point(x[i], y[j])) for i in range(len(x))] for j in range(len(y))])\n",
    "\n",
    "mask = 1-mask"
   ]
  },
  {
   "cell_type": "markdown",
   "metadata": {},
   "source": [
    "---\n",
    "First approach for checkpoints"
   ]
  },
  {
   "cell_type": "code",
   "execution_count": 48,
   "metadata": {},
   "outputs": [],
   "source": [
    "# TODO new approach for checkpoints\n",
    "\n",
    "def find_checkpoint_in_quadrant(maze, x_range, y_range):\n",
    "    for y in range(y_range[0], y_range[1]):\n",
    "        for x in range(x_range[0], x_range[1]):\n",
    "            if maze[x, y] == 0:\n",
    "                return (x, y)\n",
    "    return None  # If no suitable point is found\n",
    "\n",
    "def find_checkpoint_in_quadrant_right(maze, x_range, y_range, limit=100):\n",
    "    furthest_point = None\n",
    "    count = 0\n",
    "    for y in range(y_range[0], y_range[1]):\n",
    "        for x in range(x_range[1]-1, x_range[0]-1, -1): # Iterate in reverse order\n",
    "            if maze[x, y] == 0:\n",
    "                furthest_point = (x, y)\n",
    "                count += 1\n",
    "                if count >= limit:\n",
    "                    break\n",
    "        if count >= limit:\n",
    "            break\n",
    "    return furthest_point # Return the furthest suitable point within the limit\n",
    "\n",
    "\n",
    "def generate_quadrant_checkpoints(maze):\n",
    "    height, width = maze.shape\n",
    "    checkpoints = []\n",
    "    \n",
    "    # Quadrants: [(x_range, y_range), ...]\n",
    "    quadrants = [\n",
    "        ((height//2, height), (width//2, width)),  # Lower-Right\n",
    "        ((0, height//2), (width//2, width)),       # Upper-Right\n",
    "        ((0, height//2), (0, width//2)),           # Upper-Left\n",
    "        # ((height//2, height), (0, width//2)),      # Lower-Left\n",
    "    ]\n",
    "\n",
    "    # for quadrant in quadrants:\n",
    "    #     checkpoint = find_checkpoint_in_quadrant(maze, *quadrant)\n",
    "    #     if checkpoint:\n",
    "    #         checkpoints.append(checkpoint)\n",
    "\n",
    "    for quadrant in quadrants:\n",
    "        if quadrant == ((height//2, height), (width//2, width)): # If it's the lower-right quadrant\n",
    "            checkpoint = find_checkpoint_in_quadrant_right(maze, *quadrant) # Use a different function\n",
    "        else:\n",
    "            checkpoint = find_checkpoint_in_quadrant(maze, *quadrant)\n",
    "        if checkpoint:\n",
    "            checkpoints.append(checkpoint)\n",
    "\n",
    "\n",
    "    return checkpoints"
   ]
  },
  {
   "cell_type": "markdown",
   "metadata": {},
   "source": [
    "---\n",
    "New approach for checkpoints"
   ]
  },
  {
   "cell_type": "code",
   "execution_count": 49,
   "metadata": {},
   "outputs": [],
   "source": [
    "# NB I confused x and y again. Now it works -> don't touch\n",
    "\n",
    "def generate_checkpoints(maze):\n",
    "    height, width = maze.shape\n",
    "    center_y = width // 2\n",
    "    center_x = height // 2\n",
    "\n",
    "    print(center_x, center_y)\n",
    "    print(maze[center_x][center_y])\n",
    "\n",
    "    y = center_y\n",
    "    while y > 0 and maze[center_x,y] != 0:\n",
    "        y += 1\n",
    "    checkpoint_right = (center_x, y)\n",
    "    # Move to the left until you find a 0 pixel\n",
    "    x = center_x\n",
    "    while x > 0 and maze[x, center_y] != 0:\n",
    "        x -= 1\n",
    "    checkpoint_left = (x, center_y)\n",
    "\n",
    "    # Move up until you find a 0 pixel\n",
    "    y = center_y\n",
    "    while y > 0 and maze[center_x,y] != 0:\n",
    "        y -= 1\n",
    "    checkpoint_up = (center_x, y)\n",
    "\n",
    "    return [checkpoint_right, checkpoint_left, checkpoint_up]\n"
   ]
  },
  {
   "cell_type": "code",
   "execution_count": 50,
   "metadata": {},
   "outputs": [
    {
     "name": "stdout",
     "output_type": "stream",
     "text": [
      "42 33\n",
      "1\n",
      "[(42, 41), (36, 33), (42, 27)]\n"
     ]
    }
   ],
   "source": [
    "checkpoints = generate_checkpoints(mask)\n",
    "print(checkpoints)"
   ]
  },
  {
   "cell_type": "markdown",
   "metadata": {},
   "source": [
    "---"
   ]
  },
  {
   "cell_type": "code",
   "execution_count": 51,
   "metadata": {},
   "outputs": [
    {
     "name": "stdout",
     "output_type": "stream",
     "text": [
      "[(42, 41), (36, 33), (42, 27)]\n",
      "(84, 67)\n"
     ]
    }
   ],
   "source": [
    "# checkpoints = generate_quadrant_checkpoints(mask) # This was the first approach\n",
    "print(checkpoints)\n",
    "print(mask.shape)"
   ]
  },
  {
   "cell_type": "code",
   "execution_count": 52,
   "metadata": {},
   "outputs": [
    {
     "data": {
      "image/png": "[encoded data removed]",
      "text/plain": [
       "<Figure size 640x480 with 1 Axes>"
      ]
     },
     "metadata": {},
     "output_type": "display_data"
    },
    {
     "name": "stdout",
     "output_type": "stream",
     "text": [
      "(84, 67)\n"
     ]
    }
   ],
   "source": [
    "#################################\n",
    "# Change start according to map\n",
    "#################################\n",
    "\n",
    "# start = (20,30)\n",
    "start = (70,30)\n",
    "\n",
    "plt.imshow(mask, interpolation='nearest', origin='upper')\n",
    "# plt.axvline(center_x, color='blue')\n",
    "plt.scatter(start[1], start[0], color='red')\n",
    "\n",
    "for i in range(len(checkpoints)):\n",
    "    plt.scatter(checkpoints[i][1], checkpoints[i][0], color=\"blue\")\n",
    "# plt.scatter(20,70, color=\"red\")\n",
    "plt.scatter(mask.shape[1]//2, mask.shape[0]//2, color=\"green\")\n",
    "\n",
    "plt.show()\n",
    "mask.shape\n",
    "\n",
    "# print(mask[70][20])\n",
    "print(mask.shape)"
   ]
  },
  {
   "cell_type": "code",
   "execution_count": 53,
   "metadata": {},
   "outputs": [],
   "source": [
    "def heuristic_(a, b):\n",
    "    # Chebyshev distance\n",
    "    (x1, y1) = a\n",
    "    (x2, y2) = b\n",
    "    return max(abs(x1 - x2), abs(y1 - y2))\n",
    "\n",
    "def astar(maze, start, end):\n",
    "    moves = [(0, 1), (0, -1), (1, 0), (-1, 0),\n",
    "             (1, 1), (-1, -1), (-1, 1), (1, -1)]\n",
    "    close_set = set()\n",
    "    came_from = {}\n",
    "    gscore = {start: 0}\n",
    "    fscore = {start: heuristic_(start, end)}\n",
    "    oheap = []\n",
    "    open_set_hash = set([start])  # To check efficiently if a node is in the open set\n",
    "\n",
    "    def neighbors_available(position):\n",
    "        neighbors = []\n",
    "        for move in moves:\n",
    "            x_test, y_test = position[0] + move[0], position[1] + move[1]\n",
    "            if 0 <= x_test < maze.shape[0] and 0 <= y_test < maze.shape[1]:\n",
    "                if maze[x_test, y_test] != 1:\n",
    "                    neighbors.append((x_test, y_test))\n",
    "        return neighbors\n",
    "\n",
    "    heapq.heappush(oheap, (fscore[start], start))\n",
    "\n",
    "    while oheap:\n",
    "        current = heapq.heappop(oheap)[1]\n",
    "        open_set_hash.remove(current)\n",
    "\n",
    "        if current == end:\n",
    "            data = []\n",
    "            while current in came_from:\n",
    "                data.append(current)\n",
    "                current = came_from[current]\n",
    "            return data[::-1]  # Reversing the path\n",
    "\n",
    "        close_set.add(current)\n",
    "        for neighbor in neighbors_available(current):\n",
    "            tentative_g_score = gscore[current] + 1\n",
    "\n",
    "            if neighbor in close_set and tentative_g_score >= gscore.get(neighbor, 0):\n",
    "                continue\n",
    "\n",
    "            if tentative_g_score < gscore.get(neighbor, 0) or neighbor not in open_set_hash:\n",
    "                came_from[neighbor] = current\n",
    "                gscore[neighbor] = tentative_g_score\n",
    "                fscore[neighbor] = tentative_g_score + heuristic_(neighbor, end)\n",
    "                if neighbor not in open_set_hash:\n",
    "                    heapq.heappush(oheap, (fscore[neighbor], neighbor))\n",
    "                    open_set_hash.add(neighbor)\n",
    "\n",
    "    return False\n",
    "\n",
    "def astar_with_checkpoints(maze, start, checkpoints):\n",
    "    path = []\n",
    "    current_start = start\n",
    "\n",
    "    for checkpoint in checkpoints:\n",
    "        segment = astar(maze, current_start, checkpoint)\n",
    "        if segment:\n",
    "            path.extend(segment)\n",
    "            current_start = checkpoint\n",
    "        else:\n",
    "            print(f\"Path not found for segment to checkpoint {checkpoint}\")\n",
    "            return None  # Path not found for a segment\n",
    "\n",
    "    # Optional: return to start\n",
    "    return_to_start_segment = astar(maze, current_start, start)\n",
    "    if return_to_start_segment:\n",
    "        path.extend(return_to_start_segment)\n",
    "\n",
    "    return path\n"
   ]
  },
  {
   "cell_type": "code",
   "execution_count": 54,
   "metadata": {},
   "outputs": [
    {
     "data": {
      "image/png": "[encoded data removed]",
      "text/plain": [
       "<Figure size 640x480 with 1 Axes>"
      ]
     },
     "metadata": {},
     "output_type": "display_data"
    },
    {
     "name": "stdout",
     "output_type": "stream",
     "text": [
      "[(70, 30), (69, 29), (68, 28), (67, 27), (66, 26), (65, 25), (64, 24), (63, 23), (62, 22), (61, 21), (60, 20), (59, 19), (58, 18), (57, 17), (56, 16), (55, 15), (54, 15), (53, 16), (52, 17), (51, 18), (50, 19), (49, 20), (48, 21), (47, 22), (46, 23), (45, 24), (44, 25), (43, 26), (42, 27), (41, 27), (40, 28), (39, 29), (38, 30), (38, 31), (37, 32), (36, 33), (35, 32), (34, 31), (33, 30), (32, 29), (31, 29), (30, 30), (29, 31), (28, 32), (27, 33), (26, 34), (25, 35), (24, 36), (23, 37), (22, 38), (21, 39), (20, 40), (19, 41), (18, 42), (18, 43), (17, 44), (18, 45), (18, 46), (18, 47), (19, 48), (20, 48), (21, 49), (22, 49), (23, 49), (24, 50), (25, 49), (26, 49), (27, 49), (28, 49), (29, 49), (30, 49), (31, 49), (32, 49), (33, 49), (34, 48), (35, 48), (36, 48), (37, 47), (38, 48), (39, 47), (39, 46), (40, 45), (41, 44), (41, 43), (42, 42), (42, 41), (43, 41), (44, 40), (45, 40), (46, 40), (47, 40), (48, 39), (49, 39), (50, 40), (51, 40), (52, 41), (53, 41), (54, 41), (55, 41), (56, 40), (57, 40), (58, 39), (59, 38), (60, 37), (61, 36), (62, 35), (62, 34), (63, 33), (64, 32), (65, 32), (66, 31), (67, 31), (68, 30), (69, 29)]\n"
     ]
    }
   ],
   "source": [
    "def maze_plot_with_checkpoints(maze, start, checkpoints):\n",
    "\n",
    "    # Using the modified A* function for checkpoints\n",
    "    full_path = astar_with_checkpoints(maze, start, checkpoints)\n",
    "    if full_path is None:\n",
    "        print(\"Path not found\")\n",
    "        return\n",
    "\n",
    "    plt.imshow(maze, origin='upper')\n",
    "\n",
    "    # Plot the path\n",
    "    for point in full_path:\n",
    "        plt.scatter(point[1], point[0], color='blue')  # Ensure correct order for x, y plotting\n",
    "\n",
    "    # Plot the checkpoints and the start\n",
    "    plt.scatter(start[1],start[0], color='green')\n",
    "    for checkpoint in checkpoints:\n",
    "        plt.scatter(checkpoint[1], checkpoint[0], color='red', s=50)\n",
    "\n",
    "    plt.show()\n",
    "    \n",
    "    # Convert path back to original coordinate system if necessary\n",
    "    # full_path = [(x[1], x[0]) for x in full_path]\n",
    "    print(full_path[::-1])  # Print the path in the original coordinate system\n",
    "\n",
    "\n",
    "maze_plot_with_checkpoints(mask, start, checkpoints)"
   ]
  },
  {
   "cell_type": "code",
   "execution_count": null,
   "metadata": {},
   "outputs": [],
   "source": []
  }
 ],
 "metadata": {
  "kernelspec": {
   "display_name": "robot",
   "language": "python",
   "name": "python3"
  },
  "language_info": {
   "codemirror_mode": {
    "name": "ipython",
    "version": 3
   },
   "file_extension": ".py",
   "mimetype": "text/x-python",
   "name": "python",
   "nbconvert_exporter": "python",
   "pygments_lexer": "ipython3",
   "version": "3.11.5"
  }
 },
 "nbformat": 4,
 "nbformat_minor": 2
}
