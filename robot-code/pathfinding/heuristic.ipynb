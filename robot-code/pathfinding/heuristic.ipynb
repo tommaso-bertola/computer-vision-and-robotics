{
 "cells": [
  {
   "cell_type": "code",
   "execution_count": 1,
   "metadata": {},
   "outputs": [],
   "source": [
    "import numpy as np\n",
    "import math\n",
    "import heapq\n",
    "\n",
    "import matplotlib.pyplot as plt\n",
    "from matplotlib.patches import Circle\n",
    "import numpy as np\n",
    "import matplotlib.pyplot as plt\n",
    "from a_star import maze_plot\n",
    "import pickle\n",
    "from shapely.geometry import Polygon\n",
    "from shapely.geometry import Point\n",
    "from magic import ordinator\n",
    "\n",
    "\n",
    "with open(r\"SLAM20240124_101335.pickle\", \"rb\") as input_file:\n",
    "    e = pickle.load(input_file)\n",
    "\n",
    "positions = e['positions']\n",
    "ids = e['ids']"
   ]
  },
  {
   "cell_type": "code",
   "execution_count": 2,
   "metadata": {},
   "outputs": [
    {
     "name": "stdout",
     "output_type": "stream",
     "text": [
      "Missing 2 nodes to close the polygon; min_dist = 2.5830176518299472\n",
      "Missing 1 nodes to close the polygon; min_dist = 0.70293141703667\n"
     ]
    }
   ],
   "source": [
    "positions_array = np.array(positions)\n",
    "positions_array = np.array(positions)\n",
    "\n",
    "mask_external = (ids % 3 == 2) & (ids >= 100) & (ids <= 1000)\n",
    "mask_internal = (ids % 3 == 0) & (ids >= 100) & (ids <= 1000)\n",
    "\n",
    "ids_external = ids[mask_external]\n",
    "ids_internal = ids[mask_internal]\n",
    "\n",
    "positions_external = positions_array[mask_external]\n",
    "positions_internal = positions_array[mask_internal]\n",
    "\n",
    "\n",
    "pos_list_ext = [pos for pos in positions_external]\n",
    "pos_list_int = [pos for pos in positions_internal]\n",
    "\n",
    "external_ordered = np.array(ordinator(pos_list_ext,max_distance=0.6))\n",
    "internal_ordered = np.array(ordinator(pos_list_int))\n",
    "\n",
    "spatial_step=0.03\n",
    "max_x=np.max(external_ordered[:,0])\n",
    "max_y=np.max(external_ordered[:,1])\n",
    "min_x=np.min(external_ordered[:,0])\n",
    "min_y=np.min(external_ordered[:,1])\n",
    "delta_x=max_x-min_x\n",
    "delta_y=max_y-min_y\n",
    "center_x=min_x+delta_x/2\n",
    "center_y=min_y+delta_y/2\n",
    "\n",
    "n_x = int(delta_x/spatial_step/1.5)\n",
    "n_y = int(delta_y/spatial_step/1.5)\n",
    "\n",
    "ext_ordered_poly = Polygon(external_ordered)\n",
    "int_ordered_poly = Polygon(internal_ordered)\n",
    "\n",
    "x = np.linspace(min(np.concatenate([external_ordered[:, 0], internal_ordered[:, 0]])), max(\n",
    "    np.concatenate([external_ordered[:, 0], internal_ordered[:, 0]])), n_x)\n",
    "y = np.linspace(min(np.concatenate([external_ordered[:, 1], internal_ordered[:, 1]])), max(\n",
    "    np.concatenate([external_ordered[:, 1], internal_ordered[:, 1]])), n_y)\n",
    "X, Y = np.meshgrid(x, y)\n",
    "\n",
    "# Create a mask where the pixels inside the first circle and outside the second circle are set to 1, and all others are set to 0\n",
    "mask = np.array([[ext_ordered_poly.contains(Point(x[i], y[j])) and not int_ordered_poly.contains(\n",
    "    Point(x[i], y[j])) for i in range(len(x))] for j in range(len(y))])"
   ]
  },
  {
   "cell_type": "code",
   "execution_count": 11,
   "metadata": {},
   "outputs": [
    {
     "data": {
      "image/png": "[encoded data removed]",
      "text/plain": [
       "<Figure size 640x480 with 1 Axes>"
      ]
     },
     "metadata": {},
     "output_type": "display_data"
    },
    {
     "data": {
      "text/plain": [
       "(84, 67)"
      ]
     },
     "execution_count": 11,
     "metadata": {},
     "output_type": "execute_result"
    }
   ],
   "source": [
    "plt.imshow(mask, interpolation='nearest', origin='upper')#,\n",
    "        #    extent=[min(x), max(x), min(y), max(y)])\n",
    "# plt.axhline(center_y, color='blue')\n",
    "# plt.axvline(center_x, color='blue')\n",
    "# plt.scatter(min_x, center_y, color='green')\n",
    "plt.scatter(30, 70, color='red',)\n",
    "# # plt.scatter(center_x, center_y, color='blue')\n",
    "plt.show()\n",
    "mask.shape"
   ]
  },
  {
   "cell_type": "markdown",
   "metadata": {},
   "source": [
    "# Beginning of custom heuristic"
   ]
  },
  {
   "cell_type": "code",
   "execution_count": 30,
   "metadata": {},
   "outputs": [],
   "source": [
    "def distance(a,b):\n",
    "    return np.sqrt((a[0]-b[0])**2+ (a[1]-b[1])**2)\n",
    "\n",
    "\n",
    "def angle_between_three_points(pointA, pointB, pointC):\n",
    "    '''Returns the angle (in degrees) between vectors AC and AB'''\n",
    "\n",
    "\n",
    "    # Check if pointA and pointC are the same\n",
    "    if np.all(pointA == pointC):\n",
    "        return 0\n",
    "\n",
    "    # Calculate vectors AB and AC\n",
    "    AB = np.subtract(pointA, pointB)\n",
    "    AC = np.subtract(pointA, pointC)\n",
    "\n",
    "    # Check if AB or AC is a zero vector\n",
    "    if np.linalg.norm(AB) == 0 or np.linalg.norm(AC) == 0:\n",
    "        raise ValueError(\"One of the input points is identical to the other.\")\n",
    "\n",
    "    # Normalize the vectors\n",
    "    AB_normalized = AB / np.linalg.norm(AB)\n",
    "    AC_normalized = AC / np.linalg.norm(AC)\n",
    "\n",
    "    # Calculate the dot product\n",
    "    dot_product = np.dot(AB_normalized, AC_normalized)\n",
    "\n",
    "    # Calculate the angle in radians\n",
    "    angle_radians = np.arccos(np.clip(dot_product, -1.0, 1.0))\n",
    "\n",
    "    # Convert the angle to degrees and ensure it's between 0 and 360\n",
    "    angle_degrees = np.degrees(angle_radians) % 360\n",
    "\n",
    "    return angle_degrees\n",
    "\n",
    "\n",
    "def heuristic_(maze, current, start):\n",
    "    total_distance = 0\n",
    "    row, col =maze.shape[0]-1, maze.shape[1]-1\n",
    "    max_row = 0\n",
    "    min_row = 0\n",
    "    max_col = 0\n",
    "    min_col = 0\n",
    "\n",
    "    # print(\"Rows:\",row,\"Cols:\", col)\n",
    "\n",
    "    # Finding max and min row\n",
    "    for i in range(row):\n",
    "        if (maze[i,:]==0).any():\n",
    "            max_row= i\n",
    "            break\n",
    "    for i in range(row,0,-1):\n",
    "        if (maze[i,:]==0).any():\n",
    "            min_row = i\n",
    "            break\n",
    "\n",
    "    # Finding max and min col\n",
    "    for i in range(col):\n",
    "        if (maze[:,i]==0).any():\n",
    "            max_col= i\n",
    "            break\n",
    "    for i in range(col,0,-1):\n",
    "        if (maze[:,i]==0).any():\n",
    "            min_col = i\n",
    "            break\n",
    "\n",
    "    # print(\"Max and min rows\",max_row, min_row)\n",
    "    # print(\"Max and min cols\",max_col, min_col)\n",
    "\n",
    "    # Find center of the circle    \n",
    "    center_row, center_col = max_row+int((min_row-max_row)/2), max_col+int((min_col-max_col)/2)\n",
    "    center = [center_row, center_col]\n",
    "\n",
    "    # print(\"Center row:\",center_row)\n",
    "    # print(\"Center col:\", center_col)\n",
    "\n",
    "    radius = max(center_row, center_col)\n",
    "    # print(\"Radius:\",radius)\n",
    "\n",
    "    # distance between center and starting point\n",
    "    dist_center_start = distance(center, start)\n",
    "    dist_start_circle = radius-dist_center_start\n",
    "\n",
    "    # distance between center and current\n",
    "    dist_center_current = distance(center, current)\n",
    "    dist_current_circle = radius-dist_center_current\n",
    "\n",
    "    # angle\n",
    "    ########################## ERROR SOMEWHERE HERE\n",
    "    # angle = angle_between_three_points(current, center, start)  # returns angle between AB and AC\n",
    "    # print(\"Angle:\", angle)\n",
    "\n",
    "    # arc: 2*pi*r = theta : 360\n",
    "    # arc = (angle*2*math.pi*radius)/360\n",
    "    circumference = 2*math.pi*radius\n",
    "\n",
    "\n",
    "    # total_distance = dist_current_circle + 2*r*pi-arc + dist_start_circle\n",
    "    total_distance = dist_start_circle + dist_current_circle + circumference #- arc\n",
    "\n",
    "\n",
    "    # return center_row, center_col, radius, total_distance\n",
    "    return total_distance\n",
    "\n",
    "def astar(maze, start, end):\n",
    "    moves = [(0, 1), (0, -1), (1, 0), (-1, 0),\n",
    "             (1, 1), (-1, -1), (-1, 1), (1, -1)]\n",
    "    close_set = set()\n",
    "    came_from = {}\n",
    "    gscore = {start: 0}\n",
    "    fscore = {start: heuristic_(maze, start, end)}\n",
    "    oheap = []\n",
    "\n",
    "    def neighbors_available(position, maze, moves):\n",
    "        neighbors = []\n",
    "        for move in moves:\n",
    "            x_test = position[0]+move[0]\n",
    "            y_test = position[1]+move[1]\n",
    "            maze_test = maze[x_test, y_test]\n",
    "            if x_test >= 0 and x_test < maze.shape[0]-1:\n",
    "                if y_test >= 0 and y_test < maze.shape[1]-1:\n",
    "                    if maze_test != 1:\n",
    "                        neighbors.append((x_test, y_test))\n",
    "\n",
    "        return neighbors\n",
    "\n",
    "    heapq.heappush(oheap, (fscore[start], start))\n",
    "\n",
    "    while oheap:\n",
    "        current = heapq.heappop(oheap)[1]\n",
    "\n",
    "        if current == end:\n",
    "            data = []\n",
    "            while current in came_from:\n",
    "                data.append(current)\n",
    "                current = came_from[current]\n",
    "            return data\n",
    "\n",
    "        close_set.add(current)\n",
    "        for neighbor in neighbors_available(current, maze, moves):\n",
    "            tentative_g_score = gscore[current] + 1\n",
    "\n",
    "            if neighbor in close_set and tentative_g_score >= gscore.get(neighbor, 0):\n",
    "                continue\n",
    "\n",
    "            if tentative_g_score < gscore.get(neighbor, 0) or neighbor not in [i[1]for i in oheap]:\n",
    "                came_from[neighbor] = current\n",
    "                gscore[neighbor] = tentative_g_score\n",
    "                fscore[neighbor] = tentative_g_score + heuristic_(maze, neighbor, end)\n",
    "                heapq.heappush(oheap, (fscore[neighbor], neighbor))\n",
    "\n",
    "    return False\n",
    "\n",
    "def maze_plot(maze, start, end):\n",
    "    path = astar(maze, start[::-1], end[::-1]) # Invert x and y for map\n",
    "    path.append(start[::-1])\n",
    "    plt.imshow(maze, origin='upper')\n",
    "\n",
    "    for i in path:\n",
    "        plt.scatter(i[1], i[0], color='red')\n",
    "    plt.show()\n",
    "    \n",
    "    path = [(x[1],x[0]) for x in path]\n",
    "    print(path[::-1])"
   ]
  },
  {
   "cell_type": "code",
   "execution_count": 40,
   "metadata": {},
   "outputs": [
    {
     "data": {
      "image/png": "[encoded data removed]",
      "text/plain": [
       "<Figure size 640x480 with 1 Axes>"
      ]
     },
     "metadata": {},
     "output_type": "display_data"
    },
    {
     "name": "stdout",
     "output_type": "stream",
     "text": [
      "[(20, 80), (21, 79), (22, 78), (23, 77), (24, 76), (25, 75), (26, 74), (27, 73), (28, 72), (29, 71), (30, 70), (31, 69), (32, 68), (33, 67), (34, 66), (35, 65), (36, 64), (37, 63), (38, 62), (39, 61), (40, 60), (41, 59), (42, 58), (43, 57), (44, 56), (45, 55), (46, 54), (47, 53), (48, 52), (49, 51), (50, 50), (51, 49), (52, 48), (53, 47), (54, 46), (55, 45), (56, 44), (57, 43), (58, 42), (59, 41), (60, 40), (61, 39), (62, 38), (63, 37), (63, 36), (62, 35), (61, 34), (60, 33), (60, 32), (59, 31), (58, 30), (57, 29), (57, 28), (56, 27), (57, 26), (58, 25), (59, 24), (59, 23), (59, 22), (59, 21), (60, 20), (59, 19), (58, 18), (57, 17), (56, 16), (55, 15), (54, 14), (53, 13), (52, 12), (51, 11), (50, 10)]\n"
     ]
    }
   ],
   "source": [
    "mask = 1-mask\n",
    "\n",
    "# start = (40,10)\n",
    "start = (20, 80)\n",
    "end = (50, 10)\n",
    "# point = (20,70)\n",
    "\n",
    "maze_plot(mask, start, end)\n",
    "# plt.scatter([point[0]], [point[1]])"
   ]
  },
  {
   "cell_type": "markdown",
   "metadata": {},
   "source": [
    "---\n",
    "# Using Dijkstra as heuristic"
   ]
  },
  {
   "cell_type": "code",
   "execution_count": null,
   "metadata": {},
   "outputs": [],
   "source": [
    "# TODO"
   ]
  },
  {
   "cell_type": "markdown",
   "metadata": {},
   "source": [
    "# End of Dijkstra\n",
    "---"
   ]
  },
  {
   "cell_type": "markdown",
   "metadata": {},
   "source": [
    "# Angle between three points\n",
    "\n"
   ]
  },
  {
   "cell_type": "code",
   "execution_count": 10,
   "metadata": {},
   "outputs": [
    {
     "name": "stdout",
     "output_type": "stream",
     "text": [
      "45.00000000000001\n"
     ]
    }
   ],
   "source": [
    "def angle_between_three_points(pointA, pointB, pointC):\n",
    "    '''Returns the angle (in degrees) between vectors AB and AC'''\n",
    "\n",
    "\n",
    "    # Check if pointA and pointC are the same\n",
    "    if np.all(pointA == pointC):\n",
    "        return 0\n",
    "\n",
    "    # Calculate vectors AB and AC\n",
    "    AB = np.subtract(pointA, pointB)\n",
    "    AC = np.subtract(pointA, pointC)\n",
    "\n",
    "    # Check if AB or AC is a zero vector\n",
    "    if np.linalg.norm(AB) == 0 or np.linalg.norm(AC) == 0:\n",
    "        raise ValueError(\"One of the input points is identical to the other.\")\n",
    "\n",
    "    # Normalize the vectors\n",
    "    AB_normalized = AB / np.linalg.norm(AB)\n",
    "    AC_normalized = AC / np.linalg.norm(AC)\n",
    "\n",
    "    # Calculate the dot product\n",
    "    dot_product = np.dot(AB_normalized, AC_normalized)\n",
    "\n",
    "    # Calculate the angle in radians\n",
    "    angle_radians = np.arccos(np.clip(dot_product, -1.0, 1.0))\n",
    "\n",
    "    # Convert the angle to degrees and ensure it's between 0 and 360\n",
    "    angle_degrees = np.degrees(angle_radians) % 360\n",
    "\n",
    "    return angle_degrees\n",
    "\n",
    "\n",
    "A = np.array([0,-1])\n",
    "B = np.array([0,0])\n",
    "C = np.array([1,0])\n",
    "\n",
    "print(angle_between_three_points(A,C,B))"
   ]
  },
  {
   "cell_type": "markdown",
   "metadata": {},
   "source": [
    "# End of angle"
   ]
  },
  {
   "cell_type": "code",
   "execution_count": 8,
   "metadata": {},
   "outputs": [
    {
     "ename": "TypeError",
     "evalue": "cannot unpack non-iterable numpy.float64 object",
     "output_type": "error",
     "traceback": [
      "\u001b[0;31m---------------------------------------------------------------------------\u001b[0m",
      "\u001b[0;31mTypeError\u001b[0m                                 Traceback (most recent call last)",
      "Cell \u001b[0;32mIn[8], line 2\u001b[0m\n\u001b[1;32m      1\u001b[0m \u001b[38;5;66;03m# maze_plot(maze, start, end)\u001b[39;00m\n\u001b[0;32m----> 2\u001b[0m crow, ccol, radius, total_distance \u001b[38;5;241m=\u001b[39m heuristic_(mask, start, end)\n\u001b[1;32m      3\u001b[0m center \u001b[38;5;241m=\u001b[39m [crow, ccol]\n",
      "\u001b[0;31mTypeError\u001b[0m: cannot unpack non-iterable numpy.float64 object"
     ]
    }
   ],
   "source": [
    "\n",
    "\n",
    "# maze_plot(maze, start, end)\n",
    "crow, ccol, radius, total_distance = heuristic_(mask, start, end)\n",
    "center = [crow, ccol]"
   ]
  },
  {
   "cell_type": "code",
   "execution_count": null,
   "metadata": {},
   "outputs": [
    {
     "data": {
      "image/png": "[encoded data removed]",
      "text/plain": [
       "<Figure size 640x480 with 1 Axes>"
      ]
     },
     "metadata": {},
     "output_type": "display_data"
    },
    {
     "name": "stdout",
     "output_type": "stream",
     "text": [
      "Perimeter: 257.610597594363\n"
     ]
    }
   ],
   "source": [
    "# NB invert row and cols when plotting!!\n",
    "\n",
    "plt.imshow(mask, interpolation='nearest', origin='upper')\n",
    "plt.axhline(crow, color='green')\n",
    "plt.axvline(ccol, color='blue')\n",
    "\n",
    "plt.scatter(ccol, crow, color='red')\n",
    "plt.scatter(start[1], start[0]) # col, row\n",
    "plt.scatter(50,45, color='green')\n",
    "# Add a circle\n",
    "circle = Circle((ccol, crow), radius=radius, color='red', fill=False)\n",
    "plt.gca().add_patch(circle)\n",
    "\n",
    "plt.show()\n",
    "\n",
    "print(\"Perimeter:\",np.pi*2*radius)"
   ]
  },
  {
   "cell_type": "code",
   "execution_count": null,
   "metadata": {},
   "outputs": [],
   "source": []
  },
  {
   "cell_type": "code",
   "execution_count": null,
   "metadata": {},
   "outputs": [],
   "source": []
  },
  {
   "cell_type": "code",
   "execution_count": null,
   "metadata": {},
   "outputs": [
    {
     "data": {
      "image/png": "[encoded data removed]",
      "text/plain": [
       "<Figure size 640x480 with 1 Axes>"
      ]
     },
     "metadata": {},
     "output_type": "display_data"
    },
    {
     "name": "stdout",
     "output_type": "stream",
     "text": [
      "[(6, 10), (6, 9), (7, 8), (8, 7), (9, 6), (10, 7), (10, 8), (10, 9)]\n"
     ]
    }
   ],
   "source": [
    "maze = np.array([[1, 1, 1, 1, 1, 1, 1, 1, 1, 1, 1, 1],\n",
    "                [1, 1, 1, 1, 1, 1, 1, 1, 1, 1, 1, 1],\n",
    "                [0, 0, 1, 0, 0, 0, 0, 1, 0, 0, 0, 1],\n",
    "                [0, 0, 1, 0, 0, 0, 0, 1, 0, 1, 0, 1],\n",
    "                [0, 0, 1, 0, 0, 0, 0, 1, 1, 1, 1, 1],\n",
    "                [0, 0, 1, 0, 0, 1, 0, 0, 0, 0, 0, 1],\n",
    "                [0, 0, 0, 0, 0, 1, 0, 0, 0, 0, 0, 1],\n",
    "                [0, 0, 1, 0, 0, 1, 0, 0, 0, 1, 0, 1],\n",
    "                [0, 0, 1, 0, 0, 1, 0, 0, 0, 0, 0, 1],\n",
    "                [0, 0, 1, 1, 0, 0, 0, 0, 1, 0, 0, 1],\n",
    "                [0, 0, 1, 0, 0, 0, 0, 0, 1, 0, 0, 1],\n",
    "                [1, 1, 1, 1, 1, 1, 1, 1, 1, 1, 1, 1]])\n",
    "\n",
    "start = (6, 10)\n",
    "end = (10, 9)\n",
    "\n",
    "\n",
    "maze_plot(maze, start, end)    "
   ]
  },
  {
   "cell_type": "code",
   "execution_count": null,
   "metadata": {},
   "outputs": [
    {
     "data": {
      "image/png": "[encoded data removed]",
      "text/plain": [
       "<Figure size 640x480 with 1 Axes>"
      ]
     },
     "metadata": {},
     "output_type": "display_data"
    },
    {
     "name": "stdout",
     "output_type": "stream",
     "text": [
      "Perimeter: 37.69911184307752\n"
     ]
    }
   ],
   "source": [
    "# NB invert row and cols when plotting!!\n",
    "\n",
    "plt.imshow(maze, interpolation='nearest', origin='upper')\n",
    "plt.axhline(crow, color='green')\n",
    "plt.axvline(ccol, color='blue')\n",
    "\n",
    "plt.scatter(ccol, crow, color='red')\n",
    "plt.scatter(6,10)\n",
    "# Add a circle\n",
    "circle = Circle((ccol, crow), radius=radius, color='red', fill=False)\n",
    "plt.gca().add_patch(circle)\n",
    "\n",
    "plt.show()\n",
    "\n",
    "print(\"Perimeter:\",np.pi*2*radius)"
   ]
  }
 ],
 "metadata": {
  "kernelspec": {
   "display_name": "robot",
   "language": "python",
   "name": "python3"
  },
  "language_info": {
   "codemirror_mode": {
    "name": "ipython",
    "version": 3
   },
   "file_extension": ".py",
   "mimetype": "text/x-python",
   "name": "python",
   "nbconvert_exporter": "python",
   "pygments_lexer": "ipython3",
   "version": "3.11.5"
  }
 },
 "nbformat": 4,
 "nbformat_minor": 2
}
