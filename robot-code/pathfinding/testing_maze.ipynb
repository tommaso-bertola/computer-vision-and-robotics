{
 "cells": [
  {
   "cell_type": "code",
   "execution_count": 1,
   "metadata": {},
   "outputs": [],
   "source": [
    "import numpy as np\n",
    "import matplotlib.pyplot as plt\n",
    "from a_star import maze_plot\n",
    "import pickle\n",
    "from shapely.geometry import Polygon\n",
    "from shapely.geometry import Point\n",
    "from magic import ordinator"
   ]
  },
  {
   "cell_type": "code",
   "execution_count": 2,
   "metadata": {},
   "outputs": [],
   "source": [
    "with open(r\"SLAM20240118_135630.pickle\", \"rb\") as input_file:\n",
    "    e = pickle.load(input_file)\n",
    "\n",
    "positions = e['positions']\n",
    "ids = e['ids']"
   ]
  },
  {
   "cell_type": "code",
   "execution_count": 3,
   "metadata": {},
   "outputs": [],
   "source": [
    "positions_array = np.array(positions)\n",
    "positions_array = np.array(positions)\n",
    "\n",
    "mask_external = (ids % 3 == 2) & (ids >= 100) & (ids <= 1000)\n",
    "mask_internal = (ids % 3 == 0) & (ids >= 100) & (ids <= 1000)\n",
    "\n",
    "ids_external = ids[mask_external]\n",
    "ids_internal = ids[mask_internal]\n",
    "\n",
    "positions_external = positions_array[mask_external]\n",
    "positions_internal = positions_array[mask_internal]\n",
    "\n",
    "\n",
    "pos_list_ext = [pos for pos in positions_external]\n",
    "pos_list_int = [pos for pos in positions_internal]"
   ]
  },
  {
   "cell_type": "code",
   "execution_count": 4,
   "metadata": {},
   "outputs": [],
   "source": [
    "external_ordered = np.array(ordinator(pos_list_ext))\n",
    "internal_ordered = np.array(ordinator(pos_list_int))"
   ]
  },
  {
   "cell_type": "code",
   "execution_count": 5,
   "metadata": {},
   "outputs": [],
   "source": [
    "spatial_step=0.03\n",
    "max_x=np.max(external_ordered[:,0])\n",
    "max_y=np.max(external_ordered[:,1])\n",
    "min_x=np.min(external_ordered[:,0])\n",
    "min_y=np.min(external_ordered[:,1])\n",
    "delta_x=max_x-min_x\n",
    "delta_y=max_y-min_y\n",
    "center_x=min_x+delta_x/2\n",
    "center_y=min_y+delta_y/2"
   ]
  },
  {
   "cell_type": "code",
   "execution_count": 6,
   "metadata": {},
   "outputs": [],
   "source": [
    "n_x = int(delta_x/spatial_step/1.5)\n",
    "n_y = int(delta_y/spatial_step/1.5)"
   ]
  },
  {
   "cell_type": "code",
   "execution_count": 7,
   "metadata": {},
   "outputs": [
    {
     "data": {
      "text/plain": [
       "(65, 73)"
      ]
     },
     "execution_count": 7,
     "metadata": {},
     "output_type": "execute_result"
    }
   ],
   "source": [
    "n_x, n_y "
   ]
  },
  {
   "cell_type": "code",
   "execution_count": 8,
   "metadata": {},
   "outputs": [],
   "source": [
    "ext_ordered_poly = Polygon(external_ordered)\n",
    "int_ordered_poly = Polygon(internal_ordered)"
   ]
  },
  {
   "cell_type": "code",
   "execution_count": 9,
   "metadata": {},
   "outputs": [],
   "source": [
    "x = np.linspace(min(np.concatenate([external_ordered[:, 0], internal_ordered[:, 0]])), max(\n",
    "    np.concatenate([external_ordered[:, 0], internal_ordered[:, 0]])), n_x)\n",
    "y = np.linspace(min(np.concatenate([external_ordered[:, 1], internal_ordered[:, 1]])), max(\n",
    "    np.concatenate([external_ordered[:, 1], internal_ordered[:, 1]])), n_y)\n",
    "X, Y = np.meshgrid(x, y)\n",
    "\n",
    "# Create a mask where the pixels inside the first circle and outside the second circle are set to 1, and all others are set to 0\n",
    "mask = np.array([[ext_ordered_poly.contains(Point(x[i], y[j])) and not int_ordered_poly.contains(\n",
    "    Point(x[i], y[j])) for i in range(len(x))] for j in range(len(y))])"
   ]
  },
  {
   "cell_type": "code",
   "execution_count": 10,
   "metadata": {},
   "outputs": [],
   "source": [
    "# def quadrant_index(position, ):-> int\n"
   ]
  },
  {
   "cell_type": "code",
   "execution_count": 11,
   "metadata": {},
   "outputs": [],
   "source": [
    "# function to find quadrand\n",
    "def quadrant(position, max_x, max_y, min_x, min_y):\n",
    "    center_y = min_x+(max_y-min_y)/2\n",
    "    center_x = min_y+(max_x-min_x)/2\n",
    "    x, y = position[0:2]\n",
    "    if x >= center_x and y < center_y:\n",
    "        return 1\n",
    "    elif x >= center_x and y >= center_y:\n",
    "        return 2\n",
    "    elif x < center_x and y >= center_y:\n",
    "        return 3\n",
    "    elif x < center_x and y < center_y:\n",
    "        return 4"
   ]
  },
  {
   "cell_type": "code",
   "execution_count": 12,
   "metadata": {},
   "outputs": [],
   "source": [
    "# function heuristics\n",
    "def distance_from_arrival(position, arrival, max_x, max_y, min_x, min_y, visited_quadrant):\n",
    "    quadrant_temp = quadrant(position, max_x, max_y, min_x, min_y)\n",
    "\n",
    "    if quadrant_temp not in visited_quadrant:\n",
    "        visited_quadrant.append(quadrant_temp)\n",
    "\n",
    "    distance = 0\n",
    "\n",
    "    delta_x = max_x-min_x\n",
    "    delta_y = max_y-min_y\n",
    "\n",
    "    center_y = min_x+delta_y/2\n",
    "    center_x = min_y+delta_x/2\n",
    "\n",
    "    x, y = position[0:2]\n",
    "    x_arrival, y_arrival = arrival[0:2]\n",
    "\n",
    "    if quadrant_temp == 1:\n",
    "        # variable 1\n",
    "        distance += abs(max_x-x)+abs(center_y-y)\n",
    "        # 2 & 3\n",
    "        distance += abs(delta_y)\n",
    "        distance += abs(delta_x)\n",
    "        # 4\n",
    "        distance += abs(min_x)\n",
    "        distance += abs(center_y)\n",
    "    elif quadrant_temp == 2:\n",
    "        # 2 variable\n",
    "        distance += abs(max_y-y)+abs(x-center_x)\n",
    "        # 3\n",
    "        distance += delta_x/2\n",
    "        distance += delta_y/2\n",
    "        # 4\n",
    "        distance += abs(min_x)\n",
    "        distance += abs(center_y)\n",
    "\n",
    "    elif quadrant_temp == 3:\n",
    "        # 3 variable\n",
    "        distance += abs(x-min_x)+abs(y-center_y)\n",
    "        # 4\n",
    "        distance += abs(min_x)\n",
    "        distance += abs(center_y)\n",
    "    elif quadrant_temp == 4:\n",
    "        if 2 in visited_quadrant:\n",
    "            distance += abs(x)+abs(y)\n",
    "        else:\n",
    "            distance += abs(x-max_x) + abs(y-center_y)\n",
    "\n",
    "    return distance, visited_quadrant"
   ]
  },
  {
   "cell_type": "code",
   "execution_count": 13,
   "metadata": {},
   "outputs": [
    {
     "data": {
      "image/png": "[encoded data removed]",
      "text/plain": [
       "<Figure size 640x480 with 1 Axes>"
      ]
     },
     "metadata": {},
     "output_type": "display_data"
    }
   ],
   "source": [
    "plt.imshow(mask, interpolation='nearest', origin='lower',\n",
    "           extent=[min(x), max(x), min(y), max(y)])\n",
    "plt.axhline(center_y, color='blue')\n",
    "plt.axvline(center_x, color='blue')\n",
    "# plt.scatter(min_x, center_y, color='green')\n",
    "# plt.scatter(0.5, 0, color='red',)\n",
    "# plt.scatter(center_x, center_y, color='blue')\n",
    "plt.show()"
   ]
  },
  {
   "cell_type": "code",
   "execution_count": 14,
   "metadata": {},
   "outputs": [],
   "source": [
    "index_x = int(abs(min_x-0.5)/spatial_step/1.5)\n",
    "index_y = int(abs(min_y-0)/spatial_step/1.5)\n",
    "# mask[index_y,index_x]=False"
   ]
  },
  {
   "cell_type": "code",
   "execution_count": 15,
   "metadata": {},
   "outputs": [
    {
     "data": {
      "text/plain": [
       "<matplotlib.image.AxesImage at 0x10bc6d550>"
      ]
     },
     "execution_count": 15,
     "metadata": {},
     "output_type": "execute_result"
    },
    {
     "data": {
      "image/png": "[encoded data removed]",
      "text/plain": [
       "<Figure size 640x480 with 1 Axes>"
      ]
     },
     "metadata": {},
     "output_type": "display_data"
    }
   ],
   "source": [
    "plt.imshow(mask, origin='lower',)"
   ]
  },
  {
   "cell_type": "code",
   "execution_count": 16,
   "metadata": {},
   "outputs": [
    {
     "data": {
      "text/plain": [
       "(40, 10)"
      ]
     },
     "execution_count": 16,
     "metadata": {},
     "output_type": "execute_result"
    }
   ],
   "source": [
    "start=(40,10)\n",
    "end=(30,60)\n",
    "start"
   ]
  },
  {
   "cell_type": "code",
   "execution_count": 17,
   "metadata": {},
   "outputs": [
    {
     "data": {
      "image/png": "[encoded data removed]",
      "text/plain": [
       "<Figure size 640x480 with 1 Axes>"
      ]
     },
     "metadata": {},
     "output_type": "display_data"
    },
    {
     "name": "stdout",
     "output_type": "stream",
     "text": [
      "[(40, 10), (39, 11), (38, 12), (37, 13), (36, 14), (35, 15), (36, 16), (37, 17), (38, 18), (39, 19), (39, 20), (38, 21), (38, 22), (37, 23), (37, 24), (36, 25), (36, 26), (35, 27), (35, 28), (36, 29), (37, 30), (38, 31), (39, 32), (40, 33), (41, 34), (42, 35), (43, 36), (44, 37), (44, 38), (44, 39), (44, 40), (44, 41), (44, 42), (43, 43), (43, 44), (42, 45), (41, 46), (40, 47), (40, 48), (39, 49), (38, 50), (37, 51), (36, 52), (35, 53), (34, 54), (33, 55), (32, 56), (31, 57), (30, 58), (30, 59), (30, 60)]\n"
     ]
    }
   ],
   "source": [
    "maze_plot(1-mask, start, end)"
   ]
  }
 ],
 "metadata": {
  "kernelspec": {
   "display_name": "robot",
   "language": "python",
   "name": "python3"
  },
  "language_info": {
   "codemirror_mode": {
    "name": "ipython",
    "version": 3
   },
   "file_extension": ".py",
   "mimetype": "text/x-python",
   "name": "python",
   "nbconvert_exporter": "python",
   "pygments_lexer": "ipython3",
   "version": "3.11.5"
  }
 },
 "nbformat": 4,
 "nbformat_minor": 2
}
