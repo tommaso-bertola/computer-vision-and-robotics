{
  "cells": [
    {
      "cell_type": "code",
      "execution_count": null,
      "metadata": {},
      "outputs": [],
      "source": [
        "%load_ext autoreload\n",
        "%autoreload 2\n",
        "\n",
        "import cv2\n",
        "import time\n",
        "import numpy as np\n",
        "import sys\n",
        "from collections import deque\n",
        "import jsonpickle\n",
        "from message import Message\n",
        "from timeit import default_timer as timer\n",
        "\n",
        "from utils.robot_controller import RobotController\n",
        "\n",
        "from publisher import Publisher\n",
        "from utils.keypress_listener import KeypressListener\n",
        "from rich import print\n",
        "from utils.utils import load_config"
      ]
    },
    {
      "cell_type": "code",
      "execution_count": null,
      "metadata": {},
      "outputs": [],
      "source": [
        "config = load_config(\"config.yaml\")\n",
        "robot = RobotController(config)\n",
        "publisher = Publisher()"
      ]
    },
    {
      "cell_type": "code",
      "execution_count": null,
      "metadata": {},
      "outputs": [],
      "source": [
        "robot.recorder.load_recording(\"recordings/2023-09-18_17-49-34\")\n",
        "\n",
        "def run():\n",
        "    if not robot.recorder.playback:\n",
        "        _, raw_img, cam_fps, img_created = robot.camera.read()\n",
        "    else:\n",
        "        cam_fps = 0\n",
        "        raw_img, speed, turn = next(robot.recorder.get_step)\n",
        "    \n",
        "    if raw_img is not None:\n",
        "        draw_img = raw_img.copy()\n",
        "        data = robot.run_ekf_slam(raw_img, draw_img)\n",
        "\n",
        "    return data, cam_fps, draw_img"
      ]
    },
    {
      "cell_type": "code",
      "execution_count": null,
      "metadata": {},
      "outputs": [],
      "source": [
        "count = 0\n",
        "\n",
        "with robot, publisher:\n",
        "\n",
        "    while count < 3:\n",
        "        data, cam_fps, draw_img = run()\n",
        "\n",
        "        \n",
        "        time0 = timer()\n",
        "\n",
        "        msg = Message(\n",
        "            id = count,\n",
        "            timestamp = time0,\n",
        "            start = True,\n",
        "\n",
        "            landmark_ids = data.landmark_ids,\n",
        "            landmark_rs = data.landmark_rs,\n",
        "            landmark_alphas = data.landmark_alphas,\n",
        "            landmark_positions = data.landmark_positions,\n",
        "\n",
        "            landmark_estimated_ids = data.landmark_estimated_ids,\n",
        "            landmark_estimated_positions = data.landmark_estimated_positions,\n",
        "            landmark_estimated_stdevs = data.landmark_estimated_stdevs,\n",
        "\n",
        "            robot_position = data.robot_position,\n",
        "            robot_theta = data.robot_theta,\n",
        "            robot_stdev = data.robot_stdev,\n",
        "\n",
        "            text = f\"cam fps: {cam_fps}\"\n",
        "        )\n",
        "\n",
        "        msg_str = jsonpickle.encode(msg)\n",
        "        publisher.publish_img(msg_str, draw_img)\n",
        "\n",
        "        count += 1\n"
      ]
    },
    {
      "cell_type": "code",
      "execution_count": null,
      "metadata": {},
      "outputs": [],
      "source": []
    },
    {
      "cell_type": "code",
      "execution_count": null,
      "metadata": {},
      "outputs": [],
      "source": []
    }
  ],
  "metadata": {
    "language_info": {
      "name": "python"
    }
  },
  "nbformat": 4,
  "nbformat_minor": 2
}
