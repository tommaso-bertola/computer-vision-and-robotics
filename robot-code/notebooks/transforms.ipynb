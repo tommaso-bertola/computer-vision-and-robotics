{
 "cells": [
  {
   "cell_type": "markdown",
   "metadata": {},
   "source": [
    "# Transforms Example"
   ]
  },
  {
   "cell_type": "code",
   "execution_count": null,
   "metadata": {},
   "outputs": [],
   "source": [
    "import numpy as np\n",
    "from scipy.spatial.transform import Rotation  "
   ]
  },
  {
   "cell_type": "code",
   "execution_count": null,
   "metadata": {},
   "outputs": [],
   "source": [
    "# function to convert rvec, tvec to transform matrix\n",
    "def to_tf(rvec, tvec, order=\"xyz\"):\n",
    "    tf = np.identity(4, dtype=float)\n",
    "    r = Rotation.from_euler(order,rvec,degrees=False)\n",
    "    rot_matrix = r.as_matrix()\n",
    "    tf[:3, :3] = rot_matrix\n",
    "    tf[:3, 3] = tvec\n",
    "    return tf"
   ]
  },
  {
   "cell_type": "code",
   "execution_count": null,
   "metadata": {},
   "outputs": [],
   "source": [
    "# aruco marker transform w.r.t. camera\n",
    "rvec = [ 0.09246206,  2.85818315, -1.0544955 ]\n",
    "tvec = [-0.00248905,  0.06702913,  0.29827418]\n",
    "aruco_tf = to_tf(rvec, tvec)\n",
    "print(aruco_tf)"
   ]
  },
  {
   "cell_type": "code",
   "execution_count": null,
   "metadata": {},
   "outputs": [],
   "source": [
    "# camera transform w.r.t. robot base\n",
    "rvec = [np.radians(-90), 0, np.radians(-135)]\n",
    "tvec = [0, 0.03, 0.20] # in meters\n",
    "camera_tf = to_tf(rvec, tvec, order=\"ZYX\")\n",
    "print(camera_tf)"
   ]
  },
  {
   "cell_type": "code",
   "execution_count": null,
   "metadata": {},
   "outputs": [],
   "source": [
    "# aruco marker transform w.r.t. robot base\n",
    "aruco_robot_tf = np.dot(camera_tf, aruco_tf)\n",
    "print(aruco_robot_tf)"
   ]
  },
  {
   "cell_type": "code",
   "execution_count": null,
   "metadata": {},
   "outputs": [],
   "source": [
    "# we can read out x, y, z coordinates of aruco marker transform w.r.t. robot base\n",
    "print(f\"x = {aruco_robot_tf[0,3]}\")\n",
    "print(f\"y = {aruco_robot_tf[1,3]}\")"
   ]
  }
 ],
 "metadata": {
  "language_info": {
   "name": "python"
  }
 },
 "nbformat": 4,
 "nbformat_minor": 2
}
