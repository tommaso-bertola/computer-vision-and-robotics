{
 "cells": [
  {
   "cell_type": "code",
   "execution_count": 125,
   "metadata": {},
   "outputs": [],
   "source": [
    "import sys\n",
    "import os\n",
    "import numpy as np\n",
    "import cv2\n",
    "from scipy.spatial.transform import Rotation\n",
    "from rich import print\n",
    "import yaml\n",
    "\n",
    "# add parent folder to path\n",
    "sys.path.insert(1, os.path.join(sys.path[0], '..'))\n",
    "from utils.opencv_utils import putBText\n",
    "\n",
    "# don't display floats in scientific notation\n",
    "np.set_printoptions(suppress=True)\n"
   ]
  },
  {
   "cell_type": "code",
   "execution_count": 126,
   "metadata": {},
   "outputs": [],
   "source": [
    "# load camera intrinsics\n",
    "with open(\"../camera_intrinsics.yml\", \"r\") as stream:\n",
    "    try:\n",
    "        camera_intrinsics = yaml.safe_load(stream)\n",
    "    except yaml.YAMLError as exc:\n",
    "        print(exc)\n",
    "\n",
    "CAMERA_MATRIX = np.array(camera_intrinsics[\"camera_matrix\"][\"data\"]).reshape((camera_intrinsics[\"camera_matrix\"][\"rows\"], camera_intrinsics[\"camera_matrix\"][\"cols\"]))\n",
    "\n",
    "DIST_COEFFS = np.array(camera_intrinsics[\"distortion_coefficients\"][\"data\"]).reshape((camera_intrinsics[\"distortion_coefficients\"][\"rows\"], camera_intrinsics[\"distortion_coefficients\"][\"cols\"]))"
   ]
  },
  {
   "cell_type": "code",
   "execution_count": 127,
   "metadata": {},
   "outputs": [],
   "source": [
    "CAMERA_X_OFFSET = 0.03\n",
    "CAMERA_Z_OFFSET = 0.28\n",
    "CAMERA_ANGLE = np.radians(-120)\n",
    "\n",
    "def camera_tf():\n",
    "    tvec = np.array([CAMERA_X_OFFSET, 0, CAMERA_Z_OFFSET])\n",
    "\n",
    "    camera_rvec = np.array([np.radians(-90), 0, CAMERA_ANGLE])\n",
    "    r = Rotation.from_euler(\"ZYX\",camera_rvec,degrees=False)\n",
    "    rot_matrix = r.as_matrix()\n",
    "\n",
    "    tf = np.identity(4, dtype=float)\n",
    "    tf[:3, :3] = rot_matrix\n",
    "    tf[:3, 3] = tvec\n",
    "\n",
    "    return tf"
   ]
  },
  {
   "cell_type": "code",
   "execution_count": 128,
   "metadata": {},
   "outputs": [],
   "source": [
    "extrinics = np.linalg.inv(camera_tf())\n",
    "\n",
    "K = np.zeros((3, 4))\n",
    "K[:3, :3] = CAMERA_MATRIX\n",
    "\n",
    "P = K @ extrinics\n",
    "\n",
    "def world_to_img(X_world):\n",
    "    print(\"X_world\", X_world)\n",
    "\n",
    "    x_img = P @ X_world\n",
    "    x_img = x_img / x_img[2]\n",
    "\n",
    "    # x_img is in (x, y) where (0, 0) is in lower right\n",
    "    print(\"x_img\", x_img)\n",
    "    return x_img\n"
   ]
  },
  {
   "cell_type": "code",
   "execution_count": 129,
   "metadata": {},
   "outputs": [
    {
     "data": {
      "text/html": [
       "<pre style=\"white-space:pre;overflow-x:auto;line-height:normal;font-family:Menlo,'DejaVu Sans Mono',consolas,'Courier New',monospace\">X_world <span style=\"font-weight: bold\">[</span><span style=\"color: #008080; text-decoration-color: #008080; font-weight: bold\">0.7</span> <span style=\"color: #008080; text-decoration-color: #008080; font-weight: bold\">0</span>.  <span style=\"color: #008080; text-decoration-color: #008080; font-weight: bold\">0</span>.  <span style=\"color: #008080; text-decoration-color: #008080; font-weight: bold\">1</span>. <span style=\"font-weight: bold\">]</span>\n",
       "</pre>\n"
      ],
      "text/plain": [
       "X_world \u001b[1m[\u001b[0m\u001b[1;36m0.7\u001b[0m \u001b[1;36m0\u001b[0m.  \u001b[1;36m0\u001b[0m.  \u001b[1;36m1\u001b[0m. \u001b[1m]\u001b[0m\n"
      ]
     },
     "metadata": {},
     "output_type": "display_data"
    },
    {
     "data": {
      "text/html": [
       "<pre style=\"white-space:pre;overflow-x:auto;line-height:normal;font-family:Menlo,'DejaVu Sans Mono',consolas,'Courier New',monospace\">x_img <span style=\"font-weight: bold\">[</span><span style=\"color: #008080; text-decoration-color: #008080; font-weight: bold\">444.27</span>       <span style=\"color: #008080; text-decoration-color: #008080; font-weight: bold\">175.36528998</span>   <span style=\"color: #008080; text-decoration-color: #008080; font-weight: bold\">1</span>.        <span style=\"font-weight: bold\">]</span>\n",
       "</pre>\n"
      ],
      "text/plain": [
       "x_img \u001b[1m[\u001b[0m\u001b[1;36m444.27\u001b[0m       \u001b[1;36m175.36528998\u001b[0m   \u001b[1;36m1\u001b[0m.        \u001b[1m]\u001b[0m\n"
      ]
     },
     "metadata": {},
     "output_type": "display_data"
    },
    {
     "data": {
      "text/html": [
       "<pre style=\"white-space:pre;overflow-x:auto;line-height:normal;font-family:Menlo,'DejaVu Sans Mono',consolas,'Courier New',monospace\">X_world <span style=\"font-weight: bold\">[</span><span style=\"color: #008080; text-decoration-color: #008080; font-weight: bold\">0.7</span> <span style=\"color: #008080; text-decoration-color: #008080; font-weight: bold\">0.4</span> <span style=\"color: #008080; text-decoration-color: #008080; font-weight: bold\">0</span>.  <span style=\"color: #008080; text-decoration-color: #008080; font-weight: bold\">1</span>. <span style=\"font-weight: bold\">]</span>\n",
       "</pre>\n"
      ],
      "text/plain": [
       "X_world \u001b[1m[\u001b[0m\u001b[1;36m0.7\u001b[0m \u001b[1;36m0.4\u001b[0m \u001b[1;36m0\u001b[0m.  \u001b[1;36m1\u001b[0m. \u001b[1m]\u001b[0m\n"
      ]
     },
     "metadata": {},
     "output_type": "display_data"
    },
    {
     "data": {
      "text/html": [
       "<pre style=\"white-space:pre;overflow-x:auto;line-height:normal;font-family:Menlo,'DejaVu Sans Mono',consolas,'Courier New',monospace\">x_img <span style=\"font-weight: bold\">[</span> <span style=\"color: #008080; text-decoration-color: #008080; font-weight: bold\">91.09182011</span> <span style=\"color: #008080; text-decoration-color: #008080; font-weight: bold\">175.36528998</span>   <span style=\"color: #008080; text-decoration-color: #008080; font-weight: bold\">1</span>.        <span style=\"font-weight: bold\">]</span>\n",
       "</pre>\n"
      ],
      "text/plain": [
       "x_img \u001b[1m[\u001b[0m \u001b[1;36m91.09182011\u001b[0m \u001b[1;36m175.36528998\u001b[0m   \u001b[1;36m1\u001b[0m.        \u001b[1m]\u001b[0m\n"
      ]
     },
     "metadata": {},
     "output_type": "display_data"
    },
    {
     "data": {
      "text/html": [
       "<pre style=\"white-space:pre;overflow-x:auto;line-height:normal;font-family:Menlo,'DejaVu Sans Mono',consolas,'Courier New',monospace\">X_world <span style=\"font-weight: bold\">[</span> <span style=\"color: #008080; text-decoration-color: #008080; font-weight: bold\">0.7</span> <span style=\"color: #008080; text-decoration-color: #008080; font-weight: bold\">-0.4</span>  <span style=\"color: #008080; text-decoration-color: #008080; font-weight: bold\">0</span>.   <span style=\"color: #008080; text-decoration-color: #008080; font-weight: bold\">1</span>. <span style=\"font-weight: bold\">]</span>\n",
       "</pre>\n"
      ],
      "text/plain": [
       "X_world \u001b[1m[\u001b[0m \u001b[1;36m0.7\u001b[0m \u001b[1;36m-0.4\u001b[0m  \u001b[1;36m0\u001b[0m.   \u001b[1;36m1\u001b[0m. \u001b[1m]\u001b[0m\n"
      ]
     },
     "metadata": {},
     "output_type": "display_data"
    },
    {
     "data": {
      "text/html": [
       "<pre style=\"white-space:pre;overflow-x:auto;line-height:normal;font-family:Menlo,'DejaVu Sans Mono',consolas,'Courier New',monospace\">x_img <span style=\"font-weight: bold\">[</span><span style=\"color: #008080; text-decoration-color: #008080; font-weight: bold\">797.44817989</span> <span style=\"color: #008080; text-decoration-color: #008080; font-weight: bold\">175.36528998</span>   <span style=\"color: #008080; text-decoration-color: #008080; font-weight: bold\">1</span>.        <span style=\"font-weight: bold\">]</span>\n",
       "</pre>\n"
      ],
      "text/plain": [
       "x_img \u001b[1m[\u001b[0m\u001b[1;36m797.44817989\u001b[0m \u001b[1;36m175.36528998\u001b[0m   \u001b[1;36m1\u001b[0m.        \u001b[1m]\u001b[0m\n"
      ]
     },
     "metadata": {},
     "output_type": "display_data"
    },
    {
     "data": {
      "text/html": [
       "<pre style=\"white-space:pre;overflow-x:auto;line-height:normal;font-family:Menlo,'DejaVu Sans Mono',consolas,'Courier New',monospace\">X_world <span style=\"font-weight: bold\">[</span><span style=\"color: #008080; text-decoration-color: #008080; font-weight: bold\">0.6</span> <span style=\"color: #008080; text-decoration-color: #008080; font-weight: bold\">0.4</span> <span style=\"color: #008080; text-decoration-color: #008080; font-weight: bold\">0</span>.  <span style=\"color: #008080; text-decoration-color: #008080; font-weight: bold\">1</span>. <span style=\"font-weight: bold\">]</span>\n",
       "</pre>\n"
      ],
      "text/plain": [
       "X_world \u001b[1m[\u001b[0m\u001b[1;36m0.6\u001b[0m \u001b[1;36m0.4\u001b[0m \u001b[1;36m0\u001b[0m.  \u001b[1;36m1\u001b[0m. \u001b[1m]\u001b[0m\n"
      ]
     },
     "metadata": {},
     "output_type": "display_data"
    },
    {
     "data": {
      "text/html": [
       "<pre style=\"white-space:pre;overflow-x:auto;line-height:normal;font-family:Menlo,'DejaVu Sans Mono',consolas,'Courier New',monospace\">x_img <span style=\"font-weight: bold\">[</span> <span style=\"color: #008080; text-decoration-color: #008080; font-weight: bold\">42.82088704</span> <span style=\"color: #008080; text-decoration-color: #008080; font-weight: bold\">214.27994333</span>   <span style=\"color: #008080; text-decoration-color: #008080; font-weight: bold\">1</span>.        <span style=\"font-weight: bold\">]</span>\n",
       "</pre>\n"
      ],
      "text/plain": [
       "x_img \u001b[1m[\u001b[0m \u001b[1;36m42.82088704\u001b[0m \u001b[1;36m214.27994333\u001b[0m   \u001b[1;36m1\u001b[0m.        \u001b[1m]\u001b[0m\n"
      ]
     },
     "metadata": {},
     "output_type": "display_data"
    },
    {
     "data": {
      "text/html": [
       "<pre style=\"white-space:pre;overflow-x:auto;line-height:normal;font-family:Menlo,'DejaVu Sans Mono',consolas,'Courier New',monospace\">X_world <span style=\"font-weight: bold\">[</span><span style=\"color: #008080; text-decoration-color: #008080; font-weight: bold\">0.5</span> <span style=\"color: #008080; text-decoration-color: #008080; font-weight: bold\">0</span>.  <span style=\"color: #008080; text-decoration-color: #008080; font-weight: bold\">0</span>.  <span style=\"color: #008080; text-decoration-color: #008080; font-weight: bold\">1</span>. <span style=\"font-weight: bold\">]</span>\n",
       "</pre>\n"
      ],
      "text/plain": [
       "X_world \u001b[1m[\u001b[0m\u001b[1;36m0.5\u001b[0m \u001b[1;36m0\u001b[0m.  \u001b[1;36m0\u001b[0m.  \u001b[1;36m1\u001b[0m. \u001b[1m]\u001b[0m\n"
      ]
     },
     "metadata": {},
     "output_type": "display_data"
    },
    {
     "data": {
      "text/html": [
       "<pre style=\"white-space:pre;overflow-x:auto;line-height:normal;font-family:Menlo,'DejaVu Sans Mono',consolas,'Courier New',monospace\">x_img <span style=\"font-weight: bold\">[</span><span style=\"color: #008080; text-decoration-color: #008080; font-weight: bold\">444.27</span>       <span style=\"color: #008080; text-decoration-color: #008080; font-weight: bold\">265.51602655</span>   <span style=\"color: #008080; text-decoration-color: #008080; font-weight: bold\">1</span>.        <span style=\"font-weight: bold\">]</span>\n",
       "</pre>\n"
      ],
      "text/plain": [
       "x_img \u001b[1m[\u001b[0m\u001b[1;36m444.27\u001b[0m       \u001b[1;36m265.51602655\u001b[0m   \u001b[1;36m1\u001b[0m.        \u001b[1m]\u001b[0m\n"
      ]
     },
     "metadata": {},
     "output_type": "display_data"
    },
    {
     "data": {
      "text/html": [
       "<pre style=\"white-space:pre;overflow-x:auto;line-height:normal;font-family:Menlo,'DejaVu Sans Mono',consolas,'Courier New',monospace\">X_world <span style=\"font-weight: bold\">[</span><span style=\"color: #008080; text-decoration-color: #008080; font-weight: bold\">0.4</span> <span style=\"color: #008080; text-decoration-color: #008080; font-weight: bold\">0</span>.  <span style=\"color: #008080; text-decoration-color: #008080; font-weight: bold\">0</span>.  <span style=\"color: #008080; text-decoration-color: #008080; font-weight: bold\">1</span>. <span style=\"font-weight: bold\">]</span>\n",
       "</pre>\n"
      ],
      "text/plain": [
       "X_world \u001b[1m[\u001b[0m\u001b[1;36m0.4\u001b[0m \u001b[1;36m0\u001b[0m.  \u001b[1;36m0\u001b[0m.  \u001b[1;36m1\u001b[0m. \u001b[1m]\u001b[0m\n"
      ]
     },
     "metadata": {},
     "output_type": "display_data"
    },
    {
     "data": {
      "text/html": [
       "<pre style=\"white-space:pre;overflow-x:auto;line-height:normal;font-family:Menlo,'DejaVu Sans Mono',consolas,'Courier New',monospace\">x_img <span style=\"font-weight: bold\">[</span><span style=\"color: #008080; text-decoration-color: #008080; font-weight: bold\">444.27</span>       <span style=\"color: #008080; text-decoration-color: #008080; font-weight: bold\">336.02618292</span>   <span style=\"color: #008080; text-decoration-color: #008080; font-weight: bold\">1</span>.        <span style=\"font-weight: bold\">]</span>\n",
       "</pre>\n"
      ],
      "text/plain": [
       "x_img \u001b[1m[\u001b[0m\u001b[1;36m444.27\u001b[0m       \u001b[1;36m336.02618292\u001b[0m   \u001b[1;36m1\u001b[0m.        \u001b[1m]\u001b[0m\n"
      ]
     },
     "metadata": {},
     "output_type": "display_data"
    }
   ],
   "source": [
    "world_coords = np.array([\n",
    "    [0.7, 0, 0, 1],\n",
    "    [0.7, 0.4, 0, 1],\n",
    "    [0.7, -0.4, 0, 1],\n",
    "    [0.6, 0.4, 0, 1],\n",
    "    [0.5, 0, 0, 1],\n",
    "    [0.4, 0, 0, 1],\n",
    "    ])\n",
    "\n",
    "img_coords = []\n",
    "for world_coord in world_coords:\n",
    "    img_coord = world_to_img(world_coord)\n",
    "    img_coords.append(img_coord)\n"
   ]
  },
  {
   "cell_type": "code",
   "execution_count": 130,
   "metadata": {},
   "outputs": [
    {
     "data": {
      "image/jpeg": "[encoded data removed]",
      "image/png": "[encoded data removed]",
      "text/plain": [
       "<PIL.Image.Image image mode=RGB size=848x480>"
      ]
     },
     "metadata": {},
     "output_type": "display_data"
    }
   ],
   "source": [
    "img = np.zeros([480,848,3],dtype=np.uint8)\n",
    "img.fill(0)\n",
    "\n",
    "for img_coord, world_coord in zip(img_coords, world_coords):\n",
    "    coord_int = (int(img_coord[0]), int(img_coord[1]))\n",
    "    img = cv2.circle(img, coord_int, 5, (0, 0, 255), -1)\n",
    "\n",
    "    colour = (0, 255, 255)\n",
    "    text = f\"x:{np.round(world_coord[0], 2)}, y:{np.round(world_coord[1], 2)}, z:{np.round(world_coord[2], 2)}\"\n",
    "\n",
    "    img = putBText(img, text, (int(img_coord[0]) + 15, int(img_coord[1])-15), vspace=10, hspace=10, font_scale=0.5, background_RGB=colour,text_RGB=(255,250,250))\n",
    "\n",
    "from PIL import Image\n",
    "display(Image.fromarray(img))"
   ]
  },
  {
   "cell_type": "code",
   "execution_count": 133,
   "metadata": {},
   "outputs": [
    {
     "data": {
      "text/html": [
       "<pre style=\"white-space:pre;overflow-x:auto;line-height:normal;font-family:Menlo,'DejaVu Sans Mono',consolas,'Courier New',monospace\">img_coord <span style=\"font-weight: bold\">[</span><span style=\"color: #008080; text-decoration-color: #008080; font-weight: bold\">444.27</span>       <span style=\"color: #008080; text-decoration-color: #008080; font-weight: bold\">175.36528998</span>   <span style=\"color: #008080; text-decoration-color: #008080; font-weight: bold\">1</span>.        <span style=\"font-weight: bold\">]</span>\n",
       "</pre>\n"
      ],
      "text/plain": [
       "img_coord \u001b[1m[\u001b[0m\u001b[1;36m444.27\u001b[0m       \u001b[1;36m175.36528998\u001b[0m   \u001b[1;36m1\u001b[0m.        \u001b[1m]\u001b[0m\n"
      ]
     },
     "metadata": {},
     "output_type": "display_data"
    },
    {
     "data": {
      "text/html": [
       "<pre style=\"white-space:pre;overflow-x:auto;line-height:normal;font-family:Menlo,'DejaVu Sans Mono',consolas,'Courier New',monospace\">world_coord <span style=\"font-weight: bold\">(</span>back again<span style=\"font-weight: bold\">)</span> <span style=\"font-weight: bold\">[</span><span style=\"color: #008080; text-decoration-color: #008080; font-weight: bold\">0.7</span> <span style=\"color: #008080; text-decoration-color: #008080; font-weight: bold\">0</span>.  <span style=\"color: #008080; text-decoration-color: #008080; font-weight: bold\">0</span>. <span style=\"font-weight: bold\">]</span>\n",
       "</pre>\n"
      ],
      "text/plain": [
       "world_coord \u001b[1m(\u001b[0mback again\u001b[1m)\u001b[0m \u001b[1m[\u001b[0m\u001b[1;36m0.7\u001b[0m \u001b[1;36m0\u001b[0m.  \u001b[1;36m0\u001b[0m. \u001b[1m]\u001b[0m\n"
      ]
     },
     "metadata": {},
     "output_type": "display_data"
    },
    {
     "data": {
      "text/html": [
       "<pre style=\"white-space:pre;overflow-x:auto;line-height:normal;font-family:Menlo,'DejaVu Sans Mono',consolas,'Courier New',monospace\">img_coord <span style=\"font-weight: bold\">[</span> <span style=\"color: #008080; text-decoration-color: #008080; font-weight: bold\">91.09182011</span> <span style=\"color: #008080; text-decoration-color: #008080; font-weight: bold\">175.36528998</span>   <span style=\"color: #008080; text-decoration-color: #008080; font-weight: bold\">1</span>.        <span style=\"font-weight: bold\">]</span>\n",
       "</pre>\n"
      ],
      "text/plain": [
       "img_coord \u001b[1m[\u001b[0m \u001b[1;36m91.09182011\u001b[0m \u001b[1;36m175.36528998\u001b[0m   \u001b[1;36m1\u001b[0m.        \u001b[1m]\u001b[0m\n"
      ]
     },
     "metadata": {},
     "output_type": "display_data"
    },
    {
     "data": {
      "text/html": [
       "<pre style=\"white-space:pre;overflow-x:auto;line-height:normal;font-family:Menlo,'DejaVu Sans Mono',consolas,'Courier New',monospace\">world_coord <span style=\"font-weight: bold\">(</span>back again<span style=\"font-weight: bold\">)</span> <span style=\"font-weight: bold\">[</span><span style=\"color: #008080; text-decoration-color: #008080; font-weight: bold\">0.7</span> <span style=\"color: #008080; text-decoration-color: #008080; font-weight: bold\">0.4</span> <span style=\"color: #008080; text-decoration-color: #008080; font-weight: bold\">0</span>. <span style=\"font-weight: bold\">]</span>\n",
       "</pre>\n"
      ],
      "text/plain": [
       "world_coord \u001b[1m(\u001b[0mback again\u001b[1m)\u001b[0m \u001b[1m[\u001b[0m\u001b[1;36m0.7\u001b[0m \u001b[1;36m0.4\u001b[0m \u001b[1;36m0\u001b[0m. \u001b[1m]\u001b[0m\n"
      ]
     },
     "metadata": {},
     "output_type": "display_data"
    },
    {
     "data": {
      "text/html": [
       "<pre style=\"white-space:pre;overflow-x:auto;line-height:normal;font-family:Menlo,'DejaVu Sans Mono',consolas,'Courier New',monospace\">img_coord <span style=\"font-weight: bold\">[</span><span style=\"color: #008080; text-decoration-color: #008080; font-weight: bold\">797.44817989</span> <span style=\"color: #008080; text-decoration-color: #008080; font-weight: bold\">175.36528998</span>   <span style=\"color: #008080; text-decoration-color: #008080; font-weight: bold\">1</span>.        <span style=\"font-weight: bold\">]</span>\n",
       "</pre>\n"
      ],
      "text/plain": [
       "img_coord \u001b[1m[\u001b[0m\u001b[1;36m797.44817989\u001b[0m \u001b[1;36m175.36528998\u001b[0m   \u001b[1;36m1\u001b[0m.        \u001b[1m]\u001b[0m\n"
      ]
     },
     "metadata": {},
     "output_type": "display_data"
    },
    {
     "data": {
      "text/html": [
       "<pre style=\"white-space:pre;overflow-x:auto;line-height:normal;font-family:Menlo,'DejaVu Sans Mono',consolas,'Courier New',monospace\">world_coord <span style=\"font-weight: bold\">(</span>back again<span style=\"font-weight: bold\">)</span> <span style=\"font-weight: bold\">[</span> <span style=\"color: #008080; text-decoration-color: #008080; font-weight: bold\">0.7</span> <span style=\"color: #008080; text-decoration-color: #008080; font-weight: bold\">-0.4</span>  <span style=\"color: #008080; text-decoration-color: #008080; font-weight: bold\">0</span>. <span style=\"font-weight: bold\">]</span>\n",
       "</pre>\n"
      ],
      "text/plain": [
       "world_coord \u001b[1m(\u001b[0mback again\u001b[1m)\u001b[0m \u001b[1m[\u001b[0m \u001b[1;36m0.7\u001b[0m \u001b[1;36m-0.4\u001b[0m  \u001b[1;36m0\u001b[0m. \u001b[1m]\u001b[0m\n"
      ]
     },
     "metadata": {},
     "output_type": "display_data"
    },
    {
     "data": {
      "text/html": [
       "<pre style=\"white-space:pre;overflow-x:auto;line-height:normal;font-family:Menlo,'DejaVu Sans Mono',consolas,'Courier New',monospace\">img_coord <span style=\"font-weight: bold\">[</span> <span style=\"color: #008080; text-decoration-color: #008080; font-weight: bold\">42.82088704</span> <span style=\"color: #008080; text-decoration-color: #008080; font-weight: bold\">214.27994333</span>   <span style=\"color: #008080; text-decoration-color: #008080; font-weight: bold\">1</span>.        <span style=\"font-weight: bold\">]</span>\n",
       "</pre>\n"
      ],
      "text/plain": [
       "img_coord \u001b[1m[\u001b[0m \u001b[1;36m42.82088704\u001b[0m \u001b[1;36m214.27994333\u001b[0m   \u001b[1;36m1\u001b[0m.        \u001b[1m]\u001b[0m\n"
      ]
     },
     "metadata": {},
     "output_type": "display_data"
    },
    {
     "data": {
      "text/html": [
       "<pre style=\"white-space:pre;overflow-x:auto;line-height:normal;font-family:Menlo,'DejaVu Sans Mono',consolas,'Courier New',monospace\">world_coord <span style=\"font-weight: bold\">(</span>back again<span style=\"font-weight: bold\">)</span> <span style=\"font-weight: bold\">[</span><span style=\"color: #008080; text-decoration-color: #008080; font-weight: bold\">0.6</span> <span style=\"color: #008080; text-decoration-color: #008080; font-weight: bold\">0.4</span> <span style=\"color: #008080; text-decoration-color: #008080; font-weight: bold\">0</span>. <span style=\"font-weight: bold\">]</span>\n",
       "</pre>\n"
      ],
      "text/plain": [
       "world_coord \u001b[1m(\u001b[0mback again\u001b[1m)\u001b[0m \u001b[1m[\u001b[0m\u001b[1;36m0.6\u001b[0m \u001b[1;36m0.4\u001b[0m \u001b[1;36m0\u001b[0m. \u001b[1m]\u001b[0m\n"
      ]
     },
     "metadata": {},
     "output_type": "display_data"
    },
    {
     "data": {
      "text/html": [
       "<pre style=\"white-space:pre;overflow-x:auto;line-height:normal;font-family:Menlo,'DejaVu Sans Mono',consolas,'Courier New',monospace\">img_coord <span style=\"font-weight: bold\">[</span><span style=\"color: #008080; text-decoration-color: #008080; font-weight: bold\">444.27</span>       <span style=\"color: #008080; text-decoration-color: #008080; font-weight: bold\">265.51602655</span>   <span style=\"color: #008080; text-decoration-color: #008080; font-weight: bold\">1</span>.        <span style=\"font-weight: bold\">]</span>\n",
       "</pre>\n"
      ],
      "text/plain": [
       "img_coord \u001b[1m[\u001b[0m\u001b[1;36m444.27\u001b[0m       \u001b[1;36m265.51602655\u001b[0m   \u001b[1;36m1\u001b[0m.        \u001b[1m]\u001b[0m\n"
      ]
     },
     "metadata": {},
     "output_type": "display_data"
    },
    {
     "data": {
      "text/html": [
       "<pre style=\"white-space:pre;overflow-x:auto;line-height:normal;font-family:Menlo,'DejaVu Sans Mono',consolas,'Courier New',monospace\">world_coord <span style=\"font-weight: bold\">(</span>back again<span style=\"font-weight: bold\">)</span> <span style=\"font-weight: bold\">[</span> <span style=\"color: #008080; text-decoration-color: #008080; font-weight: bold\">0.5</span> <span style=\"color: #008080; text-decoration-color: #008080; font-weight: bold\">-0</span>.   <span style=\"color: #008080; text-decoration-color: #008080; font-weight: bold\">0</span>. <span style=\"font-weight: bold\">]</span>\n",
       "</pre>\n"
      ],
      "text/plain": [
       "world_coord \u001b[1m(\u001b[0mback again\u001b[1m)\u001b[0m \u001b[1m[\u001b[0m \u001b[1;36m0.5\u001b[0m \u001b[1;36m-0\u001b[0m.   \u001b[1;36m0\u001b[0m. \u001b[1m]\u001b[0m\n"
      ]
     },
     "metadata": {},
     "output_type": "display_data"
    },
    {
     "data": {
      "text/html": [
       "<pre style=\"white-space:pre;overflow-x:auto;line-height:normal;font-family:Menlo,'DejaVu Sans Mono',consolas,'Courier New',monospace\">img_coord <span style=\"font-weight: bold\">[</span><span style=\"color: #008080; text-decoration-color: #008080; font-weight: bold\">444.27</span>       <span style=\"color: #008080; text-decoration-color: #008080; font-weight: bold\">336.02618292</span>   <span style=\"color: #008080; text-decoration-color: #008080; font-weight: bold\">1</span>.        <span style=\"font-weight: bold\">]</span>\n",
       "</pre>\n"
      ],
      "text/plain": [
       "img_coord \u001b[1m[\u001b[0m\u001b[1;36m444.27\u001b[0m       \u001b[1;36m336.02618292\u001b[0m   \u001b[1;36m1\u001b[0m.        \u001b[1m]\u001b[0m\n"
      ]
     },
     "metadata": {},
     "output_type": "display_data"
    },
    {
     "data": {
      "text/html": [
       "<pre style=\"white-space:pre;overflow-x:auto;line-height:normal;font-family:Menlo,'DejaVu Sans Mono',consolas,'Courier New',monospace\">world_coord <span style=\"font-weight: bold\">(</span>back again<span style=\"font-weight: bold\">)</span> <span style=\"font-weight: bold\">[</span><span style=\"color: #008080; text-decoration-color: #008080; font-weight: bold\">0.4</span> <span style=\"color: #008080; text-decoration-color: #008080; font-weight: bold\">0</span>.  <span style=\"color: #008080; text-decoration-color: #008080; font-weight: bold\">0</span>. <span style=\"font-weight: bold\">]</span>\n",
       "</pre>\n"
      ],
      "text/plain": [
       "world_coord \u001b[1m(\u001b[0mback again\u001b[1m)\u001b[0m \u001b[1m[\u001b[0m\u001b[1;36m0.4\u001b[0m \u001b[1;36m0\u001b[0m.  \u001b[1;36m0\u001b[0m. \u001b[1m]\u001b[0m\n"
      ]
     },
     "metadata": {},
     "output_type": "display_data"
    }
   ],
   "source": [
    "# source: Zisserman pg. 157, Multiple View Geometry in Computer Vision Second Edition\n",
    "\n",
    "M = P[:3, :3]\n",
    "p_4 = P[:3, 3] # column 4\n",
    "\n",
    "M_inv = np.linalg.inv(M)\n",
    "\n",
    "C_tilde = -M_inv @ p_4\n",
    "\n",
    "def img_to_world(x_img):\n",
    "\n",
    "    x_tilde = M_inv @ x_img\n",
    "\n",
    "    mu = float(- C_tilde[2]/x_tilde[2]) # this solves for Z=0\n",
    "    X = np.squeeze(mu * x_tilde) + C_tilde\n",
    "\n",
    "    return X\n",
    "\n",
    "\n",
    "for img_coord in img_coords:\n",
    "    print(\"img_coord\", img_coord)\n",
    "    world_coord_again = img_to_world(img_coord)\n",
    "    print(\"world_coord (back again)\", world_coord_again)\n"
   ]
  }
 ],
 "metadata": {
  "kernelspec": {
   "display_name": ".ev3-venv",
   "language": "python",
   "name": "python3"
  },
  "language_info": {
   "codemirror_mode": {
    "name": "ipython",
    "version": 3
   },
   "file_extension": ".py",
   "mimetype": "text/x-python",
   "name": "python",
   "nbconvert_exporter": "python",
   "pygments_lexer": "ipython3",
   "version": "3.11.2"
  }
 },
 "nbformat": 4,
 "nbformat_minor": 2
}
