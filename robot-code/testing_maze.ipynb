{
 "cells": [
  {
   "cell_type": "code",
   "execution_count": 1,
   "metadata": {},
   "outputs": [],
   "source": [
    "import numpy as np\n",
    "from pathfinding import a_star\n",
    "import pickle\n",
    "from utils.magic import ordinator"
   ]
  },
  {
   "cell_type": "code",
   "execution_count": 2,
   "metadata": {},
   "outputs": [],
   "source": [
    "maze=np.loadtxt(\"mask.txt\")"
   ]
  },
  {
   "cell_type": "code",
   "execution_count": 3,
   "metadata": {},
   "outputs": [],
   "source": [
    "import matplotlib.pyplot as plt"
   ]
  },
  {
   "cell_type": "code",
   "execution_count": 4,
   "metadata": {},
   "outputs": [
    {
     "data": {
      "text/plain": [
       "<matplotlib.collections.PathCollection at 0x7f631205d0>"
      ]
     },
     "execution_count": 4,
     "metadata": {},
     "output_type": "execute_result"
    },
    {
     "data": {
      "image/png": "[encoded data removed]",
      "text/plain": [
       "<Figure size 640x480 with 1 Axes>"
      ]
     },
     "metadata": {},
     "output_type": "display_data"
    }
   ],
   "source": [
    "plt.imshow(maze, origin='lower')\n",
    "plt.scatter(41,20)\n",
    "plt.scatter(48,23)"
   ]
  },
  {
   "cell_type": "code",
   "execution_count": 5,
   "metadata": {},
   "outputs": [],
   "source": [
    "with open(\"pathfinding/SLAM20240204_162557.pickle\",'rb') as f:\n",
    "    file=pickle.load(f)"
   ]
  },
  {
   "cell_type": "code",
   "execution_count": 6,
   "metadata": {},
   "outputs": [
    {
     "name": "stdout",
     "output_type": "stream",
     "text": [
      "Missing 2 nodes to close the polygon; min_dist = 0.33843503498998734\n"
     ]
    }
   ],
   "source": [
    "file['ids'];\n",
    "\n",
    "def find_extremes(ids, positions):\n",
    "    mask_start_line = (ids < 100) & (ids > 0)\n",
    "    positions_start_line = positions[mask_start_line]\n",
    "    pos_start_line_ordered = np.array(\n",
    "        ordinator(positions_start_line, max_distance=0.2))\n",
    "    first = pos_start_line_ordered[0]\n",
    "    last = pos_start_line_ordered[-1]\n",
    "\n",
    "    radius = np.sqrt((first[0]-last[0])**2+(last[1]-first[1])**2)\n",
    "    \n",
    "    return (first, last, radius, positions_start_line, pos_start_line_ordered, )\n",
    "\n",
    "aa=find_extremes(np.array(file[\"ids\"]), np.array(file[\"positions\"]))"
   ]
  },
  {
   "cell_type": "code",
   "execution_count": 7,
   "metadata": {},
   "outputs": [],
   "source": [
    "external_ordered=np.array(file[\"positions\"])    \n",
    "min_x = np.min(external_ordered[:, 0])\n",
    "min_y = np.min(external_ordered[:, 1])"
   ]
  },
  {
   "cell_type": "code",
   "execution_count": 8,
   "metadata": {},
   "outputs": [
    {
     "data": {
      "text/plain": [
       "(array([ 0.08762329, -0.06233885]),\n",
       " array([-0.01816429,  0.16464154]),\n",
       " 0.250421863970741,\n",
       " array([[ 0.08762329, -0.06233885],\n",
       "        [ 0.16064477, -0.24107566],\n",
       "        [ 0.05422091,  0.01242301],\n",
       "        [ 0.0181294 ,  0.09668964],\n",
       "        [ 0.13484688, -0.13722905],\n",
       "        [-0.01816429,  0.16464154]]),\n",
       " array([[ 0.08762329, -0.06233885],\n",
       "        [ 0.05422091,  0.01242301],\n",
       "        [ 0.0181294 ,  0.09668964],\n",
       "        [-0.01816429,  0.16464154]]))"
      ]
     },
     "execution_count": 8,
     "metadata": {},
     "output_type": "execute_result"
    }
   ],
   "source": [
    "aa"
   ]
  },
  {
   "cell_type": "code",
   "execution_count": 9,
   "metadata": {},
   "outputs": [],
   "source": [
    "spatial_step=0.05\n",
    "x,y=aa[0]\n",
    "xx,yy=aa[1]\n",
    "index_x = int(abs(min_x-x)/spatial_step)\n",
    "index_y = int(abs(min_y-y)/spatial_step)\n",
    "\n",
    "index_xx = int(abs(min_x-xx)/spatial_step)\n",
    "index_yy= int(abs(min_y-yy)/spatial_step)"
   ]
  },
  {
   "cell_type": "code",
   "execution_count": 10,
   "metadata": {},
   "outputs": [],
   "source": [
    "def matrix(xy):\n",
    "    x,y=xy\n",
    "    index_x = int(abs(min_x-x)/spatial_step)\n",
    "    index_y = int(abs(min_y-y)/spatial_step)\n",
    "    return index_x, index_y"
   ]
  },
  {
   "cell_type": "code",
   "execution_count": 11,
   "metadata": {},
   "outputs": [
    {
     "data": {
      "text/plain": [
       "(46, 19)"
      ]
     },
     "execution_count": 11,
     "metadata": {},
     "output_type": "execute_result"
    }
   ],
   "source": [
    "matrix(aa[0])"
   ]
  },
  {
   "cell_type": "code",
   "execution_count": 12,
   "metadata": {},
   "outputs": [
    {
     "data": {
      "image/png": "[encoded data removed]",
      "text/plain": [
       "<Figure size 640x480 with 1 Axes>"
      ]
     },
     "metadata": {},
     "output_type": "display_data"
    }
   ],
   "source": [
    "plt.imshow(maze, origin='lower')\n",
    "plt.scatter(41,20)\n",
    "plt.scatter(48,23)\n",
    "plt.scatter(index_x, index_y)\n",
    "plt.scatter(index_xx, index_yy)\n",
    "for i in aa[-1]:\n",
    "    plt.scatter(*matrix(i))"
   ]
  },
  {
   "cell_type": "code",
   "execution_count": 14,
   "metadata": {},
   "outputs": [
    {
     "data": {
      "image/png": "[encoded data removed]",
      "text/plain": [
       "<Figure size 640x480 with 1 Axes>"
      ]
     },
     "metadata": {},
     "output_type": "display_data"
    }
   ],
   "source": [
    "for i in aa[-2]:\n",
    "    plt.scatter(*matrix(i), c='r')\n",
    "\n",
    "for i in aa[-1]:\n",
    "    plt.scatter(*matrix(i), c='b', marker='*')\n",
    "\n",
    "plt.gca().set_aspect('equal')"
   ]
  },
  {
   "cell_type": "code",
   "execution_count": null,
   "metadata": {},
   "outputs": [],
   "source": []
  }
 ],
 "metadata": {
  "kernelspec": {
   "display_name": ".ev3-venv",
   "language": "python",
   "name": "python3"
  },
  "language_info": {
   "codemirror_mode": {
    "name": "ipython",
    "version": 3
   },
   "file_extension": ".py",
   "mimetype": "text/x-python",
   "name": "python",
   "nbconvert_exporter": "python",
   "pygments_lexer": "ipython3",
   "version": "3.11.2"
  }
 },
 "nbformat": 4,
 "nbformat_minor": 2
}
